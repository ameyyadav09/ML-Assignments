{
 "cells": [
  {
   "cell_type": "code",
   "execution_count": 23,
   "metadata": {},
   "outputs": [],
   "source": [
    "import os\n",
    "import glob\n",
    "import numpy as np\n",
    "import pandas as pd\n",
    "import matplotlib.pyplot as plt\n",
    "import plotly.express as px\n",
    "\n",
    "%matplotlib inline"
   ]
  },
  {
   "cell_type": "code",
   "execution_count": null,
   "metadata": {},
   "outputs": [],
   "source": []
  },
  {
   "cell_type": "code",
   "execution_count": 25,
   "metadata": {},
   "outputs": [],
   "source": [
    "confirmed_cases_path = \"https://raw.githubusercontent.com/CSSEGISandData/COVID-19/master/csse_covid_19_data/csse_covid_19_time_series/time_series_19-covid-Confirmed.csv\"\n",
    "deaths_path = \"https://raw.githubusercontent.com/CSSEGISandData/COVID-19/master/csse_covid_19_data/csse_covid_19_time_series/time_series_19-covid-Deaths.csv\"\n",
    "cured_path = \"https://raw.githubusercontent.com/CSSEGISandData/COVID-19/master/csse_covid_19_data/csse_covid_19_time_series/time_series_19-covid-Recovered.csv\""
   ]
  },
  {
   "cell_type": "code",
   "execution_count": 26,
   "metadata": {},
   "outputs": [
    {
     "data": {
      "text/html": [
       "<div>\n",
       "<style scoped>\n",
       "    .dataframe tbody tr th:only-of-type {\n",
       "        vertical-align: middle;\n",
       "    }\n",
       "\n",
       "    .dataframe tbody tr th {\n",
       "        vertical-align: top;\n",
       "    }\n",
       "\n",
       "    .dataframe thead th {\n",
       "        text-align: right;\n",
       "    }\n",
       "</style>\n",
       "<table border=\"1\" class=\"dataframe\">\n",
       "  <thead>\n",
       "    <tr style=\"text-align: right;\">\n",
       "      <th></th>\n",
       "      <th>Province/State</th>\n",
       "      <th>Country/Region</th>\n",
       "      <th>Lat</th>\n",
       "      <th>Long</th>\n",
       "      <th>1/22/20</th>\n",
       "      <th>1/23/20</th>\n",
       "      <th>1/24/20</th>\n",
       "      <th>1/25/20</th>\n",
       "      <th>1/26/20</th>\n",
       "      <th>1/27/20</th>\n",
       "      <th>...</th>\n",
       "      <th>3/2/20</th>\n",
       "      <th>3/3/20</th>\n",
       "      <th>3/4/20</th>\n",
       "      <th>3/5/20</th>\n",
       "      <th>3/6/20</th>\n",
       "      <th>3/7/20</th>\n",
       "      <th>3/8/20</th>\n",
       "      <th>3/9/20</th>\n",
       "      <th>3/10/20</th>\n",
       "      <th>3/11/20</th>\n",
       "    </tr>\n",
       "  </thead>\n",
       "  <tbody>\n",
       "    <tr>\n",
       "      <th>0</th>\n",
       "      <td>NaN</td>\n",
       "      <td>Thailand</td>\n",
       "      <td>15.0000</td>\n",
       "      <td>101.0000</td>\n",
       "      <td>2</td>\n",
       "      <td>3</td>\n",
       "      <td>5</td>\n",
       "      <td>7</td>\n",
       "      <td>8</td>\n",
       "      <td>8</td>\n",
       "      <td>...</td>\n",
       "      <td>43</td>\n",
       "      <td>43</td>\n",
       "      <td>43</td>\n",
       "      <td>47</td>\n",
       "      <td>48</td>\n",
       "      <td>50</td>\n",
       "      <td>50</td>\n",
       "      <td>50</td>\n",
       "      <td>53</td>\n",
       "      <td>59</td>\n",
       "    </tr>\n",
       "    <tr>\n",
       "      <th>1</th>\n",
       "      <td>NaN</td>\n",
       "      <td>Japan</td>\n",
       "      <td>36.0000</td>\n",
       "      <td>138.0000</td>\n",
       "      <td>2</td>\n",
       "      <td>1</td>\n",
       "      <td>2</td>\n",
       "      <td>2</td>\n",
       "      <td>4</td>\n",
       "      <td>4</td>\n",
       "      <td>...</td>\n",
       "      <td>274</td>\n",
       "      <td>293</td>\n",
       "      <td>331</td>\n",
       "      <td>360</td>\n",
       "      <td>420</td>\n",
       "      <td>461</td>\n",
       "      <td>502</td>\n",
       "      <td>511</td>\n",
       "      <td>581</td>\n",
       "      <td>639</td>\n",
       "    </tr>\n",
       "    <tr>\n",
       "      <th>2</th>\n",
       "      <td>NaN</td>\n",
       "      <td>Singapore</td>\n",
       "      <td>1.2833</td>\n",
       "      <td>103.8333</td>\n",
       "      <td>0</td>\n",
       "      <td>1</td>\n",
       "      <td>3</td>\n",
       "      <td>3</td>\n",
       "      <td>4</td>\n",
       "      <td>5</td>\n",
       "      <td>...</td>\n",
       "      <td>108</td>\n",
       "      <td>110</td>\n",
       "      <td>110</td>\n",
       "      <td>117</td>\n",
       "      <td>130</td>\n",
       "      <td>138</td>\n",
       "      <td>150</td>\n",
       "      <td>150</td>\n",
       "      <td>160</td>\n",
       "      <td>178</td>\n",
       "    </tr>\n",
       "    <tr>\n",
       "      <th>3</th>\n",
       "      <td>NaN</td>\n",
       "      <td>Nepal</td>\n",
       "      <td>28.1667</td>\n",
       "      <td>84.2500</td>\n",
       "      <td>0</td>\n",
       "      <td>0</td>\n",
       "      <td>0</td>\n",
       "      <td>1</td>\n",
       "      <td>1</td>\n",
       "      <td>1</td>\n",
       "      <td>...</td>\n",
       "      <td>1</td>\n",
       "      <td>1</td>\n",
       "      <td>1</td>\n",
       "      <td>1</td>\n",
       "      <td>1</td>\n",
       "      <td>1</td>\n",
       "      <td>1</td>\n",
       "      <td>1</td>\n",
       "      <td>1</td>\n",
       "      <td>1</td>\n",
       "    </tr>\n",
       "    <tr>\n",
       "      <th>4</th>\n",
       "      <td>NaN</td>\n",
       "      <td>Malaysia</td>\n",
       "      <td>2.5000</td>\n",
       "      <td>112.5000</td>\n",
       "      <td>0</td>\n",
       "      <td>0</td>\n",
       "      <td>0</td>\n",
       "      <td>3</td>\n",
       "      <td>4</td>\n",
       "      <td>4</td>\n",
       "      <td>...</td>\n",
       "      <td>29</td>\n",
       "      <td>36</td>\n",
       "      <td>50</td>\n",
       "      <td>50</td>\n",
       "      <td>83</td>\n",
       "      <td>93</td>\n",
       "      <td>99</td>\n",
       "      <td>117</td>\n",
       "      <td>129</td>\n",
       "      <td>149</td>\n",
       "    </tr>\n",
       "  </tbody>\n",
       "</table>\n",
       "<p>5 rows × 54 columns</p>\n",
       "</div>"
      ],
      "text/plain": [
       "  Province/State Country/Region      Lat      Long  1/22/20  1/23/20  1/24/20  \\\n",
       "0            NaN       Thailand  15.0000  101.0000        2        3        5   \n",
       "1            NaN          Japan  36.0000  138.0000        2        1        2   \n",
       "2            NaN      Singapore   1.2833  103.8333        0        1        3   \n",
       "3            NaN          Nepal  28.1667   84.2500        0        0        0   \n",
       "4            NaN       Malaysia   2.5000  112.5000        0        0        0   \n",
       "\n",
       "   1/25/20  1/26/20  1/27/20   ...     3/2/20  3/3/20  3/4/20  3/5/20  3/6/20  \\\n",
       "0        7        8        8   ...         43      43      43      47      48   \n",
       "1        2        4        4   ...        274     293     331     360     420   \n",
       "2        3        4        5   ...        108     110     110     117     130   \n",
       "3        1        1        1   ...          1       1       1       1       1   \n",
       "4        3        4        4   ...         29      36      50      50      83   \n",
       "\n",
       "   3/7/20  3/8/20  3/9/20  3/10/20  3/11/20  \n",
       "0      50      50      50       53       59  \n",
       "1     461     502     511      581      639  \n",
       "2     138     150     150      160      178  \n",
       "3       1       1       1        1        1  \n",
       "4      93      99     117      129      149  \n",
       "\n",
       "[5 rows x 54 columns]"
      ]
     },
     "execution_count": 26,
     "metadata": {},
     "output_type": "execute_result"
    }
   ],
   "source": [
    "confirmed_cases = pd.read_csv(confirmed_cases_path)\n",
    "confirmed_cases.head()"
   ]
  },
  {
   "cell_type": "code",
   "execution_count": 29,
   "metadata": {},
   "outputs": [
    {
     "data": {
      "text/html": [
       "<div>\n",
       "<style scoped>\n",
       "    .dataframe tbody tr th:only-of-type {\n",
       "        vertical-align: middle;\n",
       "    }\n",
       "\n",
       "    .dataframe tbody tr th {\n",
       "        vertical-align: top;\n",
       "    }\n",
       "\n",
       "    .dataframe thead th {\n",
       "        text-align: right;\n",
       "    }\n",
       "</style>\n",
       "<table border=\"1\" class=\"dataframe\">\n",
       "  <thead>\n",
       "    <tr style=\"text-align: right;\">\n",
       "      <th></th>\n",
       "      <th>Province/State</th>\n",
       "      <th>Country/Region</th>\n",
       "      <th>Lat</th>\n",
       "      <th>Long</th>\n",
       "      <th>1/22/20</th>\n",
       "      <th>1/23/20</th>\n",
       "      <th>1/24/20</th>\n",
       "      <th>1/25/20</th>\n",
       "      <th>1/26/20</th>\n",
       "      <th>1/27/20</th>\n",
       "      <th>...</th>\n",
       "      <th>3/2/20</th>\n",
       "      <th>3/3/20</th>\n",
       "      <th>3/4/20</th>\n",
       "      <th>3/5/20</th>\n",
       "      <th>3/6/20</th>\n",
       "      <th>3/7/20</th>\n",
       "      <th>3/8/20</th>\n",
       "      <th>3/9/20</th>\n",
       "      <th>3/10/20</th>\n",
       "      <th>3/11/20</th>\n",
       "    </tr>\n",
       "  </thead>\n",
       "  <tbody>\n",
       "    <tr>\n",
       "      <th>0</th>\n",
       "      <td>NaN</td>\n",
       "      <td>Thailand</td>\n",
       "      <td>15.0000</td>\n",
       "      <td>101.0000</td>\n",
       "      <td>0</td>\n",
       "      <td>0</td>\n",
       "      <td>0</td>\n",
       "      <td>0</td>\n",
       "      <td>0</td>\n",
       "      <td>0</td>\n",
       "      <td>...</td>\n",
       "      <td>1</td>\n",
       "      <td>1</td>\n",
       "      <td>1</td>\n",
       "      <td>1</td>\n",
       "      <td>1</td>\n",
       "      <td>1</td>\n",
       "      <td>1</td>\n",
       "      <td>1</td>\n",
       "      <td>1</td>\n",
       "      <td>1</td>\n",
       "    </tr>\n",
       "    <tr>\n",
       "      <th>1</th>\n",
       "      <td>NaN</td>\n",
       "      <td>Japan</td>\n",
       "      <td>36.0000</td>\n",
       "      <td>138.0000</td>\n",
       "      <td>0</td>\n",
       "      <td>0</td>\n",
       "      <td>0</td>\n",
       "      <td>0</td>\n",
       "      <td>0</td>\n",
       "      <td>0</td>\n",
       "      <td>...</td>\n",
       "      <td>6</td>\n",
       "      <td>6</td>\n",
       "      <td>6</td>\n",
       "      <td>6</td>\n",
       "      <td>6</td>\n",
       "      <td>6</td>\n",
       "      <td>6</td>\n",
       "      <td>10</td>\n",
       "      <td>10</td>\n",
       "      <td>15</td>\n",
       "    </tr>\n",
       "    <tr>\n",
       "      <th>2</th>\n",
       "      <td>NaN</td>\n",
       "      <td>Singapore</td>\n",
       "      <td>1.2833</td>\n",
       "      <td>103.8333</td>\n",
       "      <td>0</td>\n",
       "      <td>0</td>\n",
       "      <td>0</td>\n",
       "      <td>0</td>\n",
       "      <td>0</td>\n",
       "      <td>0</td>\n",
       "      <td>...</td>\n",
       "      <td>0</td>\n",
       "      <td>0</td>\n",
       "      <td>0</td>\n",
       "      <td>0</td>\n",
       "      <td>0</td>\n",
       "      <td>0</td>\n",
       "      <td>0</td>\n",
       "      <td>0</td>\n",
       "      <td>0</td>\n",
       "      <td>0</td>\n",
       "    </tr>\n",
       "    <tr>\n",
       "      <th>3</th>\n",
       "      <td>NaN</td>\n",
       "      <td>Nepal</td>\n",
       "      <td>28.1667</td>\n",
       "      <td>84.2500</td>\n",
       "      <td>0</td>\n",
       "      <td>0</td>\n",
       "      <td>0</td>\n",
       "      <td>0</td>\n",
       "      <td>0</td>\n",
       "      <td>0</td>\n",
       "      <td>...</td>\n",
       "      <td>0</td>\n",
       "      <td>0</td>\n",
       "      <td>0</td>\n",
       "      <td>0</td>\n",
       "      <td>0</td>\n",
       "      <td>0</td>\n",
       "      <td>0</td>\n",
       "      <td>0</td>\n",
       "      <td>0</td>\n",
       "      <td>0</td>\n",
       "    </tr>\n",
       "    <tr>\n",
       "      <th>4</th>\n",
       "      <td>NaN</td>\n",
       "      <td>Malaysia</td>\n",
       "      <td>2.5000</td>\n",
       "      <td>112.5000</td>\n",
       "      <td>0</td>\n",
       "      <td>0</td>\n",
       "      <td>0</td>\n",
       "      <td>0</td>\n",
       "      <td>0</td>\n",
       "      <td>0</td>\n",
       "      <td>...</td>\n",
       "      <td>0</td>\n",
       "      <td>0</td>\n",
       "      <td>0</td>\n",
       "      <td>0</td>\n",
       "      <td>0</td>\n",
       "      <td>0</td>\n",
       "      <td>0</td>\n",
       "      <td>0</td>\n",
       "      <td>0</td>\n",
       "      <td>0</td>\n",
       "    </tr>\n",
       "  </tbody>\n",
       "</table>\n",
       "<p>5 rows × 54 columns</p>\n",
       "</div>"
      ],
      "text/plain": [
       "  Province/State Country/Region      Lat      Long  1/22/20  1/23/20  1/24/20  \\\n",
       "0            NaN       Thailand  15.0000  101.0000        0        0        0   \n",
       "1            NaN          Japan  36.0000  138.0000        0        0        0   \n",
       "2            NaN      Singapore   1.2833  103.8333        0        0        0   \n",
       "3            NaN          Nepal  28.1667   84.2500        0        0        0   \n",
       "4            NaN       Malaysia   2.5000  112.5000        0        0        0   \n",
       "\n",
       "   1/25/20  1/26/20  1/27/20   ...     3/2/20  3/3/20  3/4/20  3/5/20  3/6/20  \\\n",
       "0        0        0        0   ...          1       1       1       1       1   \n",
       "1        0        0        0   ...          6       6       6       6       6   \n",
       "2        0        0        0   ...          0       0       0       0       0   \n",
       "3        0        0        0   ...          0       0       0       0       0   \n",
       "4        0        0        0   ...          0       0       0       0       0   \n",
       "\n",
       "   3/7/20  3/8/20  3/9/20  3/10/20  3/11/20  \n",
       "0       1       1       1        1        1  \n",
       "1       6       6      10       10       15  \n",
       "2       0       0       0        0        0  \n",
       "3       0       0       0        0        0  \n",
       "4       0       0       0        0        0  \n",
       "\n",
       "[5 rows x 54 columns]"
      ]
     },
     "execution_count": 29,
     "metadata": {},
     "output_type": "execute_result"
    }
   ],
   "source": [
    "deaths_data = pd.read_csv(deaths_path)\n",
    "deaths_data.head()"
   ]
  },
  {
   "cell_type": "code",
   "execution_count": 30,
   "metadata": {},
   "outputs": [
    {
     "data": {
      "text/html": [
       "<div>\n",
       "<style scoped>\n",
       "    .dataframe tbody tr th:only-of-type {\n",
       "        vertical-align: middle;\n",
       "    }\n",
       "\n",
       "    .dataframe tbody tr th {\n",
       "        vertical-align: top;\n",
       "    }\n",
       "\n",
       "    .dataframe thead th {\n",
       "        text-align: right;\n",
       "    }\n",
       "</style>\n",
       "<table border=\"1\" class=\"dataframe\">\n",
       "  <thead>\n",
       "    <tr style=\"text-align: right;\">\n",
       "      <th></th>\n",
       "      <th>Province/State</th>\n",
       "      <th>Country/Region</th>\n",
       "      <th>Lat</th>\n",
       "      <th>Long</th>\n",
       "      <th>1/22/20</th>\n",
       "      <th>1/23/20</th>\n",
       "      <th>1/24/20</th>\n",
       "      <th>1/25/20</th>\n",
       "      <th>1/26/20</th>\n",
       "      <th>1/27/20</th>\n",
       "      <th>...</th>\n",
       "      <th>3/2/20</th>\n",
       "      <th>3/3/20</th>\n",
       "      <th>3/4/20</th>\n",
       "      <th>3/5/20</th>\n",
       "      <th>3/6/20</th>\n",
       "      <th>3/7/20</th>\n",
       "      <th>3/8/20</th>\n",
       "      <th>3/9/20</th>\n",
       "      <th>3/10/20</th>\n",
       "      <th>3/11/20</th>\n",
       "    </tr>\n",
       "  </thead>\n",
       "  <tbody>\n",
       "    <tr>\n",
       "      <th>0</th>\n",
       "      <td>NaN</td>\n",
       "      <td>Thailand</td>\n",
       "      <td>15.0000</td>\n",
       "      <td>101.0000</td>\n",
       "      <td>0</td>\n",
       "      <td>0</td>\n",
       "      <td>0</td>\n",
       "      <td>0</td>\n",
       "      <td>2</td>\n",
       "      <td>2</td>\n",
       "      <td>...</td>\n",
       "      <td>31</td>\n",
       "      <td>31</td>\n",
       "      <td>31</td>\n",
       "      <td>31</td>\n",
       "      <td>31</td>\n",
       "      <td>31</td>\n",
       "      <td>31</td>\n",
       "      <td>31</td>\n",
       "      <td>33</td>\n",
       "      <td>34</td>\n",
       "    </tr>\n",
       "    <tr>\n",
       "      <th>1</th>\n",
       "      <td>NaN</td>\n",
       "      <td>Japan</td>\n",
       "      <td>36.0000</td>\n",
       "      <td>138.0000</td>\n",
       "      <td>0</td>\n",
       "      <td>0</td>\n",
       "      <td>0</td>\n",
       "      <td>0</td>\n",
       "      <td>1</td>\n",
       "      <td>1</td>\n",
       "      <td>...</td>\n",
       "      <td>32</td>\n",
       "      <td>43</td>\n",
       "      <td>43</td>\n",
       "      <td>43</td>\n",
       "      <td>46</td>\n",
       "      <td>76</td>\n",
       "      <td>76</td>\n",
       "      <td>76</td>\n",
       "      <td>101</td>\n",
       "      <td>118</td>\n",
       "    </tr>\n",
       "    <tr>\n",
       "      <th>2</th>\n",
       "      <td>NaN</td>\n",
       "      <td>Singapore</td>\n",
       "      <td>1.2833</td>\n",
       "      <td>103.8333</td>\n",
       "      <td>0</td>\n",
       "      <td>0</td>\n",
       "      <td>0</td>\n",
       "      <td>0</td>\n",
       "      <td>0</td>\n",
       "      <td>0</td>\n",
       "      <td>...</td>\n",
       "      <td>78</td>\n",
       "      <td>78</td>\n",
       "      <td>78</td>\n",
       "      <td>78</td>\n",
       "      <td>78</td>\n",
       "      <td>78</td>\n",
       "      <td>78</td>\n",
       "      <td>78</td>\n",
       "      <td>78</td>\n",
       "      <td>96</td>\n",
       "    </tr>\n",
       "    <tr>\n",
       "      <th>3</th>\n",
       "      <td>NaN</td>\n",
       "      <td>Nepal</td>\n",
       "      <td>28.1667</td>\n",
       "      <td>84.2500</td>\n",
       "      <td>0</td>\n",
       "      <td>0</td>\n",
       "      <td>0</td>\n",
       "      <td>0</td>\n",
       "      <td>0</td>\n",
       "      <td>0</td>\n",
       "      <td>...</td>\n",
       "      <td>1</td>\n",
       "      <td>1</td>\n",
       "      <td>1</td>\n",
       "      <td>1</td>\n",
       "      <td>1</td>\n",
       "      <td>1</td>\n",
       "      <td>1</td>\n",
       "      <td>1</td>\n",
       "      <td>1</td>\n",
       "      <td>1</td>\n",
       "    </tr>\n",
       "    <tr>\n",
       "      <th>4</th>\n",
       "      <td>NaN</td>\n",
       "      <td>Malaysia</td>\n",
       "      <td>2.5000</td>\n",
       "      <td>112.5000</td>\n",
       "      <td>0</td>\n",
       "      <td>0</td>\n",
       "      <td>0</td>\n",
       "      <td>0</td>\n",
       "      <td>0</td>\n",
       "      <td>0</td>\n",
       "      <td>...</td>\n",
       "      <td>18</td>\n",
       "      <td>22</td>\n",
       "      <td>22</td>\n",
       "      <td>22</td>\n",
       "      <td>22</td>\n",
       "      <td>23</td>\n",
       "      <td>24</td>\n",
       "      <td>24</td>\n",
       "      <td>24</td>\n",
       "      <td>26</td>\n",
       "    </tr>\n",
       "  </tbody>\n",
       "</table>\n",
       "<p>5 rows × 54 columns</p>\n",
       "</div>"
      ],
      "text/plain": [
       "  Province/State Country/Region      Lat      Long  1/22/20  1/23/20  1/24/20  \\\n",
       "0            NaN       Thailand  15.0000  101.0000        0        0        0   \n",
       "1            NaN          Japan  36.0000  138.0000        0        0        0   \n",
       "2            NaN      Singapore   1.2833  103.8333        0        0        0   \n",
       "3            NaN          Nepal  28.1667   84.2500        0        0        0   \n",
       "4            NaN       Malaysia   2.5000  112.5000        0        0        0   \n",
       "\n",
       "   1/25/20  1/26/20  1/27/20   ...     3/2/20  3/3/20  3/4/20  3/5/20  3/6/20  \\\n",
       "0        0        2        2   ...         31      31      31      31      31   \n",
       "1        0        1        1   ...         32      43      43      43      46   \n",
       "2        0        0        0   ...         78      78      78      78      78   \n",
       "3        0        0        0   ...          1       1       1       1       1   \n",
       "4        0        0        0   ...         18      22      22      22      22   \n",
       "\n",
       "   3/7/20  3/8/20  3/9/20  3/10/20  3/11/20  \n",
       "0      31      31      31       33       34  \n",
       "1      76      76      76      101      118  \n",
       "2      78      78      78       78       96  \n",
       "3       1       1       1        1        1  \n",
       "4      23      24      24       24       26  \n",
       "\n",
       "[5 rows x 54 columns]"
      ]
     },
     "execution_count": 30,
     "metadata": {},
     "output_type": "execute_result"
    }
   ],
   "source": [
    "recovered_cases = pd.read_csv(cured_path)\n",
    "recovered_cases.head()"
   ]
  },
  {
   "cell_type": "markdown",
   "metadata": {},
   "source": [
    "#### Let us the growth of number of cases per each day over the entire world"
   ]
  },
  {
   "cell_type": "code",
   "execution_count": 31,
   "metadata": {},
   "outputs": [],
   "source": [
    "days_columns = confirmed_cases.columns[4:]"
   ]
  },
  {
   "cell_type": "code",
   "execution_count": 32,
   "metadata": {},
   "outputs": [],
   "source": [
    "world_cases_growth = confirmed_cases[days_columns].sum(axis = 0).reset_index()\n",
    "world_cases_growth.columns = ['Date', 'Count']"
   ]
  },
  {
   "cell_type": "code",
   "execution_count": 33,
   "metadata": {},
   "outputs": [
    {
     "data": {
      "image/png": "[encoded data removed]",
      "text/plain": [
       "<Figure size 1440x720 with 1 Axes>"
      ]
     },
     "metadata": {
      "needs_background": "light"
     },
     "output_type": "display_data"
    }
   ],
   "source": [
    "plt.rcParams['figure.figsize'] = [20, 10]\n",
    "plt.stem(world_cases_growth['Date'], world_cases_growth['Count'], '--ro')\n",
    "plt.plot(world_cases_growth['Date'], world_cases_growth['Count'], '--bo')\n",
    "plt.title(\"Spread of virus per each day\")\n",
    "plt.xticks(world_cases_growth['Date'], rotation = 90)\n",
    "plt.yticks(world_cases_growth['Count'])\n",
    "plt.show()"
   ]
  },
  {
   "cell_type": "markdown",
   "metadata": {},
   "source": [
    "##### Sudden spike can be seen from 12-Feb to 13-Feb almost 15000 cases were identified in just a single day ."
   ]
  },
  {
   "cell_type": "markdown",
   "metadata": {},
   "source": [
    "#### Parallelly let us compare the active cases to # of deaths on each day"
   ]
  },
  {
   "cell_type": "code",
   "execution_count": 34,
   "metadata": {},
   "outputs": [],
   "source": [
    "world_cases_growth['deaths'] = deaths_data[days_columns].sum(axis = 0).reset_index(drop = True)"
   ]
  },
  {
   "cell_type": "code",
   "execution_count": 35,
   "metadata": {},
   "outputs": [
    {
     "data": {
      "image/png": "[encoded data removed]",
      "text/plain": [
       "<Figure size 1440x720 with 1 Axes>"
      ]
     },
     "metadata": {
      "needs_background": "light"
     },
     "output_type": "display_data"
    }
   ],
   "source": [
    "plt.rcParams['figure.figsize'] = [20,10]\n",
    "plt.stem(world_cases_growth['Date'], world_cases_growth['deaths'], '--yo')\n",
    "plt.plot(world_cases_growth['Date'], world_cases_growth['deaths'], '--ro')\n",
    "for i in range(world_cases_growth.shape[0]):\n",
    "    plt.text(world_cases_growth.loc[i, 'Date'], world_cases_growth.loc[i, 'deaths']+50, \n",
    "             world_cases_growth.loc[i,'deaths'])\n",
    "plt.title(\"Growth of death toll due to Covid-19 per each day\")\n",
    "plt.xticks(world_cases_growth['Date'], rotation = 90)\n",
    "plt.show()"
   ]
  },
  {
   "cell_type": "markdown",
   "metadata": {},
   "source": [
    "<b>But the above representation is a cumulative sum of previous day count and newly added count, We can look at the delta change for every day.</b>"
   ]
  },
  {
   "cell_type": "code",
   "execution_count": 36,
   "metadata": {},
   "outputs": [],
   "source": [
    "world_cases_growth['delta_deaths'] = world_cases_growth['deaths'].sub(world_cases_growth['deaths'].shift())\n",
    "world_cases_growth.loc[0, 'delta_deaths'] = world_cases_growth.loc[0, 'deaths']"
   ]
  },
  {
   "cell_type": "code",
   "execution_count": 37,
   "metadata": {
    "scrolled": false
   },
   "outputs": [
    {
     "data": {
      "image/png": "[encoded data removed]",
      "text/plain": [
       "<Figure size 1440x720 with 1 Axes>"
      ]
     },
     "metadata": {
      "needs_background": "light"
     },
     "output_type": "display_data"
    }
   ],
   "source": [
    "plt.rcParams['figure.figsize'] = [20,10]\n",
    "plt.stem(world_cases_growth['Date'], world_cases_growth['delta_deaths'], '--yo')\n",
    "plt.plot(world_cases_growth['Date'], world_cases_growth['delta_deaths'], '--ro')\n",
    "for i in range(world_cases_growth.shape[0]):\n",
    "    plt.text(world_cases_growth.loc[i, 'Date'], world_cases_growth.loc[i, 'delta_deaths']+2, \n",
    "             world_cases_growth.loc[i,'delta_deaths'].astype(int))\n",
    "plt.title(\"# of deaths due to Covid-19 per each day\")\n",
    "plt.xticks(world_cases_growth['Date'], rotation = 90)\n",
    "plt.show()"
   ]
  },
  {
   "cell_type": "markdown",
   "metadata": {},
   "source": [
    "#### Let us also see how many cases were cured on daily basis"
   ]
  },
  {
   "cell_type": "code",
   "execution_count": 38,
   "metadata": {},
   "outputs": [],
   "source": [
    "world_cases_growth['recovered'] = recovered_cases[days_columns].sum(axis = 0).reset_index(drop = True)"
   ]
  },
  {
   "cell_type": "code",
   "execution_count": 39,
   "metadata": {},
   "outputs": [
    {
     "data": {
      "image/png": "[encoded data removed]",
      "text/plain": [
       "<Figure size 1440x720 with 1 Axes>"
      ]
     },
     "metadata": {
      "needs_background": "light"
     },
     "output_type": "display_data"
    }
   ],
   "source": [
    "plt.rcParams['figure.figsize'] = [20,10]\n",
    "plt.stem(world_cases_growth['Date'], world_cases_growth['recovered'], '--yo')\n",
    "plt.plot(world_cases_growth['Date'], world_cases_growth['recovered'], '--ro')\n",
    "for i in range(world_cases_growth.shape[0]):\n",
    "    plt.text(world_cases_growth.loc[i, 'Date'], world_cases_growth.loc[i, 'recovered']+50, \n",
    "             world_cases_growth.loc[i,'recovered'])\n",
    "plt.title(\"# of people that recovered from Covid-19 virus\")\n",
    "plt.xticks(world_cases_growth['Date'], rotation = 90)\n",
    "plt.show()"
   ]
  },
  {
   "cell_type": "code",
   "execution_count": 40,
   "metadata": {},
   "outputs": [
    {
     "data": {
      "image/png": "[encoded data removed]",
      "text/plain": [
       "<Figure size 1440x720 with 3 Axes>"
      ]
     },
     "metadata": {
      "needs_background": "light"
     },
     "output_type": "display_data"
    }
   ],
   "source": [
    "plt.rcParams['figure.figsize'] = [20, 10]\n",
    "plt.figure(1)\n",
    "plt.subplot(311)\n",
    "plt.plot(world_cases_growth['Date'], world_cases_growth['Count'], '--bo')\n",
    "plt.xticks(world_cases_growth['Date'], rotation = 90)\n",
    "plt.legend()\n",
    "\n",
    "plt.subplot(312)\n",
    "plt.plot(world_cases_growth['Date'], world_cases_growth['deaths'], '--ro')\n",
    "plt.xticks(world_cases_growth['Date'], rotation = 90)\n",
    "plt.legend()\n",
    "\n",
    "plt.subplot(313)\n",
    "plt.plot(world_cases_growth['Date'], world_cases_growth['recovered'], '--go')\n",
    "\n",
    "plt.xticks(world_cases_growth['Date'], rotation = 90)\n",
    "plt.legend()\n",
    "plt.show()"
   ]
  },
  {
   "cell_type": "markdown",
   "metadata": {},
   "source": [
    "#### Let us now see the growth of virus in each country"
   ]
  },
  {
   "cell_type": "code",
   "execution_count": 41,
   "metadata": {
    "scrolled": true
   },
   "outputs": [
    {
     "data": {
      "text/html": [
       "<div>\n",
       "<style scoped>\n",
       "    .dataframe tbody tr th:only-of-type {\n",
       "        vertical-align: middle;\n",
       "    }\n",
       "\n",
       "    .dataframe tbody tr th {\n",
       "        vertical-align: top;\n",
       "    }\n",
       "\n",
       "    .dataframe thead th {\n",
       "        text-align: right;\n",
       "    }\n",
       "</style>\n",
       "<table border=\"1\" class=\"dataframe\">\n",
       "  <thead>\n",
       "    <tr style=\"text-align: right;\">\n",
       "      <th></th>\n",
       "      <th>Country/Region</th>\n",
       "      <th>1/22/20</th>\n",
       "      <th>1/23/20</th>\n",
       "      <th>1/24/20</th>\n",
       "      <th>1/25/20</th>\n",
       "      <th>1/26/20</th>\n",
       "      <th>1/27/20</th>\n",
       "      <th>1/28/20</th>\n",
       "      <th>1/29/20</th>\n",
       "      <th>1/30/20</th>\n",
       "      <th>...</th>\n",
       "      <th>3/2/20</th>\n",
       "      <th>3/3/20</th>\n",
       "      <th>3/4/20</th>\n",
       "      <th>3/5/20</th>\n",
       "      <th>3/6/20</th>\n",
       "      <th>3/7/20</th>\n",
       "      <th>3/8/20</th>\n",
       "      <th>3/9/20</th>\n",
       "      <th>3/10/20</th>\n",
       "      <th>3/11/20</th>\n",
       "    </tr>\n",
       "  </thead>\n",
       "  <tbody>\n",
       "    <tr>\n",
       "      <th>0</th>\n",
       "      <td>Afghanistan</td>\n",
       "      <td>0</td>\n",
       "      <td>0</td>\n",
       "      <td>0</td>\n",
       "      <td>0</td>\n",
       "      <td>0</td>\n",
       "      <td>0</td>\n",
       "      <td>0</td>\n",
       "      <td>0</td>\n",
       "      <td>0</td>\n",
       "      <td>...</td>\n",
       "      <td>1</td>\n",
       "      <td>1</td>\n",
       "      <td>1</td>\n",
       "      <td>1</td>\n",
       "      <td>1</td>\n",
       "      <td>1</td>\n",
       "      <td>4</td>\n",
       "      <td>4</td>\n",
       "      <td>5</td>\n",
       "      <td>7</td>\n",
       "    </tr>\n",
       "    <tr>\n",
       "      <th>1</th>\n",
       "      <td>Albania</td>\n",
       "      <td>0</td>\n",
       "      <td>0</td>\n",
       "      <td>0</td>\n",
       "      <td>0</td>\n",
       "      <td>0</td>\n",
       "      <td>0</td>\n",
       "      <td>0</td>\n",
       "      <td>0</td>\n",
       "      <td>0</td>\n",
       "      <td>...</td>\n",
       "      <td>0</td>\n",
       "      <td>0</td>\n",
       "      <td>0</td>\n",
       "      <td>0</td>\n",
       "      <td>0</td>\n",
       "      <td>0</td>\n",
       "      <td>0</td>\n",
       "      <td>2</td>\n",
       "      <td>10</td>\n",
       "      <td>12</td>\n",
       "    </tr>\n",
       "    <tr>\n",
       "      <th>2</th>\n",
       "      <td>Algeria</td>\n",
       "      <td>0</td>\n",
       "      <td>0</td>\n",
       "      <td>0</td>\n",
       "      <td>0</td>\n",
       "      <td>0</td>\n",
       "      <td>0</td>\n",
       "      <td>0</td>\n",
       "      <td>0</td>\n",
       "      <td>0</td>\n",
       "      <td>...</td>\n",
       "      <td>3</td>\n",
       "      <td>5</td>\n",
       "      <td>12</td>\n",
       "      <td>12</td>\n",
       "      <td>17</td>\n",
       "      <td>17</td>\n",
       "      <td>19</td>\n",
       "      <td>20</td>\n",
       "      <td>20</td>\n",
       "      <td>20</td>\n",
       "    </tr>\n",
       "    <tr>\n",
       "      <th>3</th>\n",
       "      <td>Andorra</td>\n",
       "      <td>0</td>\n",
       "      <td>0</td>\n",
       "      <td>0</td>\n",
       "      <td>0</td>\n",
       "      <td>0</td>\n",
       "      <td>0</td>\n",
       "      <td>0</td>\n",
       "      <td>0</td>\n",
       "      <td>0</td>\n",
       "      <td>...</td>\n",
       "      <td>1</td>\n",
       "      <td>1</td>\n",
       "      <td>1</td>\n",
       "      <td>1</td>\n",
       "      <td>1</td>\n",
       "      <td>1</td>\n",
       "      <td>1</td>\n",
       "      <td>1</td>\n",
       "      <td>1</td>\n",
       "      <td>1</td>\n",
       "    </tr>\n",
       "    <tr>\n",
       "      <th>4</th>\n",
       "      <td>Argentina</td>\n",
       "      <td>0</td>\n",
       "      <td>0</td>\n",
       "      <td>0</td>\n",
       "      <td>0</td>\n",
       "      <td>0</td>\n",
       "      <td>0</td>\n",
       "      <td>0</td>\n",
       "      <td>0</td>\n",
       "      <td>0</td>\n",
       "      <td>...</td>\n",
       "      <td>0</td>\n",
       "      <td>1</td>\n",
       "      <td>1</td>\n",
       "      <td>1</td>\n",
       "      <td>2</td>\n",
       "      <td>8</td>\n",
       "      <td>12</td>\n",
       "      <td>12</td>\n",
       "      <td>17</td>\n",
       "      <td>19</td>\n",
       "    </tr>\n",
       "  </tbody>\n",
       "</table>\n",
       "<p>5 rows × 51 columns</p>\n",
       "</div>"
      ],
      "text/plain": [
       "  Country/Region  1/22/20  1/23/20  1/24/20  1/25/20  1/26/20  1/27/20  \\\n",
       "0    Afghanistan        0        0        0        0        0        0   \n",
       "1        Albania        0        0        0        0        0        0   \n",
       "2        Algeria        0        0        0        0        0        0   \n",
       "3        Andorra        0        0        0        0        0        0   \n",
       "4      Argentina        0        0        0        0        0        0   \n",
       "\n",
       "   1/28/20  1/29/20  1/30/20   ...     3/2/20  3/3/20  3/4/20  3/5/20  3/6/20  \\\n",
       "0        0        0        0   ...          1       1       1       1       1   \n",
       "1        0        0        0   ...          0       0       0       0       0   \n",
       "2        0        0        0   ...          3       5      12      12      17   \n",
       "3        0        0        0   ...          1       1       1       1       1   \n",
       "4        0        0        0   ...          0       1       1       1       2   \n",
       "\n",
       "   3/7/20  3/8/20  3/9/20  3/10/20  3/11/20  \n",
       "0       1       4       4        5        7  \n",
       "1       0       0       2       10       12  \n",
       "2      17      19      20       20       20  \n",
       "3       1       1       1        1        1  \n",
       "4       8      12      12       17       19  \n",
       "\n",
       "[5 rows x 51 columns]"
      ]
     },
     "execution_count": 41,
     "metadata": {},
     "output_type": "execute_result"
    }
   ],
   "source": [
    "con_cases_growth = confirmed_cases.groupby('Country/Region')[days_columns].agg(np.sum).reset_index()\n",
    "con_cases_growth.head()"
   ]
  },
  {
   "cell_type": "code",
   "execution_count": 42,
   "metadata": {},
   "outputs": [],
   "source": [
    "plt.show()"
   ]
  },
  {
   "cell_type": "markdown",
   "metadata": {},
   "source": [
    "#### As per the latest data lets see what is the severity of cases in each country"
   ]
  },
  {
   "cell_type": "code",
   "execution_count": 79,
   "metadata": {},
   "outputs": [],
   "source": [
    "import requests\n",
    "html_response = requests.get(\"https://github.com/CSSEGISandData/COVID-19/tree/master/csse_covid_19_data/csse_covid_19_daily_reports?_pjax=%23js-repo-pjax-container\")"
   ]
  },
  {
   "cell_type": "code",
   "execution_count": 78,
   "metadata": {},
   "outputs": [],
   "source": [
    "from bs4 import BeautifulSoup\n",
    "soup = BeautifulSoup(html_response.content, \"html.parser\")"
   ]
  },
  {
   "cell_type": "code",
   "execution_count": 77,
   "metadata": {},
   "outputs": [],
   "source": [
    "a_tags = list(map(lambda x : x.get('href'), soup.findAll(name = 'a', attrs={'class' : 'js-navigation-open '})))"
   ]
  },
  {
   "cell_type": "code",
   "execution_count": 98,
   "metadata": {},
   "outputs": [
    {
     "data": {
      "text/plain": [
       "'https://raw.githubusercontent.com/CSSEGISandData/COVID-19/master/csse_covid_19_data/csse_covid_19_daily_reports/03-11-2020.csv'"
      ]
     },
     "execution_count": 98,
     "metadata": {},
     "output_type": "execute_result"
    }
   ],
   "source": [
    "repo_path = \"https://raw.githubusercontent.com/CSSEGISandData/COVID-19/master/csse_covid_19_data/csse_covid_19_daily_reports/\"+os.path.basename(a_tags[-2])\n",
    "repo_path"
   ]
  },
  {
   "cell_type": "code",
   "execution_count": 99,
   "metadata": {},
   "outputs": [],
   "source": [
    "# daily_data = \"csse_covid_19_data\\\\csse_covid_19_daily_reports\"\n",
    "# daily_data_dir = os.path.join(os.path.dirname(os.getcwd()), daily_data)\n",
    "# daily_data_files = glob.glob(daily_data_dir+'/*.csv')[-1]\n",
    "daily_data_files = repo_path"
   ]
  },
  {
   "cell_type": "code",
   "execution_count": 100,
   "metadata": {},
   "outputs": [
    {
     "data": {
      "text/html": [
       "<div>\n",
       "<style scoped>\n",
       "    .dataframe tbody tr th:only-of-type {\n",
       "        vertical-align: middle;\n",
       "    }\n",
       "\n",
       "    .dataframe tbody tr th {\n",
       "        vertical-align: top;\n",
       "    }\n",
       "\n",
       "    .dataframe thead th {\n",
       "        text-align: right;\n",
       "    }\n",
       "</style>\n",
       "<table border=\"1\" class=\"dataframe\">\n",
       "  <thead>\n",
       "    <tr style=\"text-align: right;\">\n",
       "      <th></th>\n",
       "      <th>Province/State</th>\n",
       "      <th>Country/Region</th>\n",
       "      <th>Last Update</th>\n",
       "      <th>Confirmed</th>\n",
       "      <th>Deaths</th>\n",
       "      <th>Recovered</th>\n",
       "      <th>Latitude</th>\n",
       "      <th>Longitude</th>\n",
       "    </tr>\n",
       "  </thead>\n",
       "  <tbody>\n",
       "    <tr>\n",
       "      <th>0</th>\n",
       "      <td>Hubei</td>\n",
       "      <td>China</td>\n",
       "      <td>2020-03-11T10:53:02</td>\n",
       "      <td>67773</td>\n",
       "      <td>3046</td>\n",
       "      <td>49134</td>\n",
       "      <td>30.9756</td>\n",
       "      <td>112.2707</td>\n",
       "    </tr>\n",
       "    <tr>\n",
       "      <th>1</th>\n",
       "      <td>NaN</td>\n",
       "      <td>Italy</td>\n",
       "      <td>2020-03-11T21:33:02</td>\n",
       "      <td>12462</td>\n",
       "      <td>827</td>\n",
       "      <td>1045</td>\n",
       "      <td>43.0000</td>\n",
       "      <td>12.0000</td>\n",
       "    </tr>\n",
       "    <tr>\n",
       "      <th>2</th>\n",
       "      <td>NaN</td>\n",
       "      <td>Iran</td>\n",
       "      <td>2020-03-11T18:52:03</td>\n",
       "      <td>9000</td>\n",
       "      <td>354</td>\n",
       "      <td>2959</td>\n",
       "      <td>32.0000</td>\n",
       "      <td>53.0000</td>\n",
       "    </tr>\n",
       "    <tr>\n",
       "      <th>3</th>\n",
       "      <td>NaN</td>\n",
       "      <td>Korea, South</td>\n",
       "      <td>2020-03-11T21:13:18</td>\n",
       "      <td>7755</td>\n",
       "      <td>60</td>\n",
       "      <td>288</td>\n",
       "      <td>36.0000</td>\n",
       "      <td>128.0000</td>\n",
       "    </tr>\n",
       "    <tr>\n",
       "      <th>4</th>\n",
       "      <td>France</td>\n",
       "      <td>France</td>\n",
       "      <td>2020-03-11T22:53:03</td>\n",
       "      <td>2281</td>\n",
       "      <td>48</td>\n",
       "      <td>12</td>\n",
       "      <td>46.2276</td>\n",
       "      <td>2.2137</td>\n",
       "    </tr>\n",
       "  </tbody>\n",
       "</table>\n",
       "</div>"
      ],
      "text/plain": [
       "  Province/State Country/Region          Last Update  Confirmed  Deaths  \\\n",
       "0          Hubei          China  2020-03-11T10:53:02      67773    3046   \n",
       "1            NaN          Italy  2020-03-11T21:33:02      12462     827   \n",
       "2            NaN           Iran  2020-03-11T18:52:03       9000     354   \n",
       "3            NaN   Korea, South  2020-03-11T21:13:18       7755      60   \n",
       "4         France         France  2020-03-11T22:53:03       2281      48   \n",
       "\n",
       "   Recovered  Latitude  Longitude  \n",
       "0      49134   30.9756   112.2707  \n",
       "1       1045   43.0000    12.0000  \n",
       "2       2959   32.0000    53.0000  \n",
       "3        288   36.0000   128.0000  \n",
       "4         12   46.2276     2.2137  "
      ]
     },
     "execution_count": 100,
     "metadata": {},
     "output_type": "execute_result"
    }
   ],
   "source": [
    "latest_data = pd.read_csv(daily_data_files)\n",
    "latest_data.head()"
   ]
  },
  {
   "cell_type": "code",
   "execution_count": 101,
   "metadata": {},
   "outputs": [],
   "source": [
    "agg_latest_data = latest_data.groupby('Country/Region')['Confirmed'].agg([np.sum], ).reset_index()"
   ]
  },
  {
   "cell_type": "code",
   "execution_count": 110,
   "metadata": {},
   "outputs": [],
   "source": [
    "agg_latest_data = agg_latest_data[agg_latest_data['sum'] > 0].reset_index(drop = True)"
   ]
  },
  {
   "cell_type": "code",
   "execution_count": 107,
   "metadata": {},
   "outputs": [
    {
     "data": {
      "text/plain": [
       "0"
      ]
     },
     "execution_count": 107,
     "metadata": {},
     "output_type": "execute_result"
    }
   ],
   "source": []
  },
  {
   "cell_type": "code",
   "execution_count": 111,
   "metadata": {},
   "outputs": [],
   "source": [
    "manual_dict = {'mainland china' : 'CHN', 'north macedonia' : 'MKD', 'palestine' : 'PSE', \n",
    "               'saint barthelemy' : 'FRA', 'south korea' : 'KOR', 'st. martin' : 'PYC', \n",
    "               'uk' : 'GBR', 'us' : 'USA', 'vatican city': 'ITA'}\n",
    "def get_country_code(series):\n",
    "    df = pd.read_csv('https://raw.githubusercontent.com/plotly/datasets/master/2014_world_gdp_with_codes.csv')\n",
    "    df2 = pd.read_csv(os.path.join(os.path.dirname(os.getcwd()), 'archived_data\\\\countryCodes.csv'), sep = '\\t')\n",
    "    country_code_dict = {row[1][0].lower() : row[1][2] for row in df.iterrows()}\n",
    "    added_dict = {row[1][0].lower() : row[1][2] for row in df2.iterrows()}\n",
    "#     print(country_code_dict)\n",
    "    res = []\n",
    "    for key in series:\n",
    "        if key.lower() in country_code_dict:\n",
    "            res.append(country_code_dict.get(key.lower(), None))\n",
    "        elif key.lower() in added_dict:\n",
    "            res.append(added_dict.get(key.lower(), None))\n",
    "        else:\n",
    "            res.append(manual_dict.get(key.lower(), None))\n",
    "    return res"
   ]
  },
  {
   "cell_type": "code",
   "execution_count": 112,
   "metadata": {},
   "outputs": [],
   "source": [
    "agg_latest_data['Code'] = get_country_code(agg_latest_data['Country/Region'])"
   ]
  },
  {
   "cell_type": "code",
   "execution_count": 113,
   "metadata": {},
   "outputs": [
    {
     "data": {
      "application/vnd.plotly.v1+json": {
       "config": {
        "plotlyServerURL": "https://plot.ly"
       },
       "data": [
        {
         "customdata": [
          [
           "Afghanistan",
           7
          ],
          [
           "Albania",
           12
          ],
          [
           "Algeria",
           20
          ],
          [
           "Andorra",
           1
          ],
          [
           "Argentina",
           19
          ],
          [
           "Armenia",
           1
          ],
          [
           "Australia",
           128
          ],
          [
           "Austria",
           246
          ],
          [
           "Azerbaijan",
           11
          ],
          [
           "Bahrain",
           195
          ],
          [
           "Bangladesh",
           3
          ],
          [
           "Belarus",
           9
          ],
          [
           "Belgium",
           314
          ],
          [
           "Bhutan",
           1
          ],
          [
           "Bolivia",
           2
          ],
          [
           "Bosnia and Herzegovina",
           7
          ],
          [
           "Brazil",
           38
          ],
          [
           "Brunei",
           11
          ],
          [
           "Bulgaria",
           7
          ],
          [
           "Burkina Faso",
           2
          ],
          [
           "Cambodia",
           3
          ],
          [
           "Cameroon",
           2
          ],
          [
           "Canada",
           108
          ],
          [
           "Chile",
           23
          ],
          [
           "China",
           80921
          ],
          [
           "Colombia",
           9
          ],
          [
           "Congo (Kinshasa)",
           1
          ],
          [
           "Costa Rica",
           13
          ],
          [
           "Cote d'Ivoire",
           1
          ],
          [
           "Croatia",
           19
          ],
          [
           "Cruise Ship",
           696
          ],
          [
           "Cyprus",
           6
          ],
          [
           "Czechia",
           91
          ],
          [
           "Denmark",
           444
          ],
          [
           "Dominican Republic",
           5
          ],
          [
           "Ecuador",
           17
          ],
          [
           "Egypt",
           60
          ],
          [
           "Estonia",
           16
          ],
          [
           "Finland",
           59
          ],
          [
           "France",
           2284
          ],
          [
           "French Guiana",
           5
          ],
          [
           "Georgia",
           24
          ],
          [
           "Germany",
           1908
          ],
          [
           "Greece",
           99
          ],
          [
           "Holy See",
           1
          ],
          [
           "Honduras",
           2
          ],
          [
           "Hungary",
           13
          ],
          [
           "Iceland",
           85
          ],
          [
           "India",
           62
          ],
          [
           "Indonesia",
           34
          ],
          [
           "Iran",
           9000
          ],
          [
           "Iraq",
           71
          ],
          [
           "Ireland",
           43
          ],
          [
           "Israel",
           109
          ],
          [
           "Italy",
           12462
          ],
          [
           "Jamaica",
           1
          ],
          [
           "Japan",
           639
          ],
          [
           "Jordan",
           1
          ],
          [
           "Korea, South",
           7755
          ],
          [
           "Kuwait",
           72
          ],
          [
           "Latvia",
           10
          ],
          [
           "Lebanon",
           61
          ],
          [
           "Liechtenstein",
           1
          ],
          [
           "Lithuania",
           3
          ],
          [
           "Luxembourg",
           7
          ],
          [
           "Malaysia",
           149
          ],
          [
           "Maldives",
           8
          ],
          [
           "Malta",
           6
          ],
          [
           "Martinique",
           3
          ],
          [
           "Mexico",
           8
          ],
          [
           "Moldova",
           3
          ],
          [
           "Monaco",
           1
          ],
          [
           "Mongolia",
           1
          ],
          [
           "Morocco",
           5
          ],
          [
           "Nepal",
           1
          ],
          [
           "Netherlands",
           503
          ],
          [
           "New Zealand",
           5
          ],
          [
           "Nigeria",
           2
          ],
          [
           "North Macedonia",
           7
          ],
          [
           "Norway",
           598
          ],
          [
           "Oman",
           18
          ],
          [
           "Pakistan",
           19
          ],
          [
           "Panama",
           8
          ],
          [
           "Paraguay",
           5
          ],
          [
           "Peru",
           11
          ],
          [
           "Philippines",
           49
          ],
          [
           "Poland",
           31
          ],
          [
           "Portugal",
           59
          ],
          [
           "Qatar",
           262
          ],
          [
           "Reunion",
           1
          ],
          [
           "Romania",
           45
          ],
          [
           "Russia",
           20
          ],
          [
           "San Marino",
           62
          ],
          [
           "Saudi Arabia",
           21
          ],
          [
           "Senegal",
           4
          ],
          [
           "Serbia",
           12
          ],
          [
           "Singapore",
           178
          ],
          [
           "Slovakia",
           10
          ],
          [
           "Slovenia",
           57
          ],
          [
           "South Africa",
           13
          ],
          [
           "Spain",
           2277
          ],
          [
           "Sri Lanka",
           2
          ],
          [
           "Sweden",
           500
          ],
          [
           "Switzerland",
           652
          ],
          [
           "Taiwan*",
           48
          ],
          [
           "Thailand",
           59
          ],
          [
           "Togo",
           1
          ],
          [
           "Tunisia",
           7
          ],
          [
           "Turkey",
           1
          ],
          [
           "US",
           1281
          ],
          [
           "Ukraine",
           1
          ],
          [
           "United Arab Emirates",
           74
          ],
          [
           "United Kingdom",
           459
          ],
          [
           "Vietnam",
           38
          ]
         ],
         "geo": "geo",
         "hoverlabel": {
          "namelength": 0
         },
         "hovertemplate": "<b>%{hovertext}</b><br><br>size=%{marker.size}<br>Country/Region=%{customdata[0]}<br>sum=%{customdata[1]}<br>Code=%{location}<br>color=%{marker.color}",
         "hovertext": [
          "Afghanistan",
          "Albania",
          "Algeria",
          "Andorra",
          "Argentina",
          "Armenia",
          "Australia",
          "Austria",
          "Azerbaijan",
          "Bahrain",
          "Bangladesh",
          "Belarus",
          "Belgium",
          "Bhutan",
          "Bolivia",
          "Bosnia and Herzegovina",
          "Brazil",
          "Brunei",
          "Bulgaria",
          "Burkina Faso",
          "Cambodia",
          "Cameroon",
          "Canada",
          "Chile",
          "China",
          "Colombia",
          "Congo (Kinshasa)",
          "Costa Rica",
          "Cote d'Ivoire",
          "Croatia",
          "Cruise Ship",
          "Cyprus",
          "Czechia",
          "Denmark",
          "Dominican Republic",
          "Ecuador",
          "Egypt",
          "Estonia",
          "Finland",
          "France",
          "French Guiana",
          "Georgia",
          "Germany",
          "Greece",
          "Holy See",
          "Honduras",
          "Hungary",
          "Iceland",
          "India",
          "Indonesia",
          "Iran",
          "Iraq",
          "Ireland",
          "Israel",
          "Italy",
          "Jamaica",
          "Japan",
          "Jordan",
          "Korea, South",
          "Kuwait",
          "Latvia",
          "Lebanon",
          "Liechtenstein",
          "Lithuania",
          "Luxembourg",
          "Malaysia",
          "Maldives",
          "Malta",
          "Martinique",
          "Mexico",
          "Moldova",
          "Monaco",
          "Mongolia",
          "Morocco",
          "Nepal",
          "Netherlands",
          "New Zealand",
          "Nigeria",
          "North Macedonia",
          "Norway",
          "Oman",
          "Pakistan",
          "Panama",
          "Paraguay",
          "Peru",
          "Philippines",
          "Poland",
          "Portugal",
          "Qatar",
          "Reunion",
          "Romania",
          "Russia",
          "San Marino",
          "Saudi Arabia",
          "Senegal",
          "Serbia",
          "Singapore",
          "Slovakia",
          "Slovenia",
          "South Africa",
          "Spain",
          "Sri Lanka",
          "Sweden",
          "Switzerland",
          "Taiwan*",
          "Thailand",
          "Togo",
          "Tunisia",
          "Turkey",
          "US",
          "Ukraine",
          "United Arab Emirates",
          "United Kingdom",
          "Vietnam"
         ],
         "legendgroup": "",
         "locations": [
          "AFG",
          "ALB",
          "DZA",
          "AND",
          "ARG",
          "ARM",
          "AUS",
          "AUT",
          "AZE",
          "BHR",
          "BGD",
          "BLR",
          "BEL",
          "BTN",
          "BOL",
          "BIH",
          "BRA",
          "BRN",
          "BGR",
          "BFA",
          "KHM",
          "CMR",
          "CAN",
          "CHL",
          "CHN",
          "COL",
          null,
          "CRI",
          "CIV",
          "HRV",
          null,
          "CYP",
          null,
          "DNK",
          "DOM",
          "ECU",
          "EGY",
          "EST",
          "FIN",
          "FRA",
          "GUF",
          "GEO",
          "DEU",
          "GRC",
          null,
          "HND",
          "HUN",
          "ISL",
          "IND",
          "IDN",
          "IRN",
          "IRQ",
          "IRL",
          "ISR",
          "ITA",
          "JAM",
          "JPN",
          "JOR",
          "KOR",
          "KWT",
          "LVA",
          "LBN",
          "LIE",
          "LTU",
          "LUX",
          "MYS",
          "MDV",
          "MLT",
          "MTQ",
          "MEX",
          "MDA",
          "MCO",
          "MNG",
          "MAR",
          "NPL",
          "NLD",
          "NZL",
          "NGA",
          "MKD",
          "NOR",
          "OMN",
          "PAK",
          "PAN",
          "PRY",
          "PER",
          "PHL",
          "POL",
          "PRT",
          "QAT",
          null,
          "ROU",
          "RUS",
          "SMR",
          "SAU",
          "SEN",
          "SRB",
          "SGP",
          "SVK",
          "SVN",
          "ZAF",
          "ESP",
          "LKA",
          "SWE",
          "CHE",
          null,
          "THA",
          "TGO",
          "TUN",
          "TUR",
          "USA",
          "UKR",
          "ARE",
          "GBR",
          "VNM"
         ],
         "marker": {
          "color": [
           1.9459101490553132,
           2.4849066497880004,
           2.995732273553991,
           0,
           2.9444389791664403,
           0,
           4.852030263919617,
           5.5053315359323625,
           2.3978952727983707,
           5.272999558563747,
           1.0986122886681098,
           2.1972245773362196,
           5.749392985908253,
           0,
           0.6931471805599453,
           1.9459101490553132,
           3.6375861597263857,
           2.3978952727983707,
           1.9459101490553132,
           0.6931471805599453,
           1.0986122886681098,
           0.6931471805599453,
           4.68213122712422,
           3.1354942159291497,
           11.301228649089653,
           2.1972245773362196,
           0,
           2.5649493574615367,
           0,
           2.9444389791664403,
           6.54534966033442,
           1.791759469228055,
           4.51085950651685,
           6.095824562432225,
           1.6094379124341003,
           2.833213344056216,
           4.0943445622221,
           2.772588722239781,
           4.07753744390572,
           7.7336835707759,
           1.6094379124341003,
           3.1780538303479458,
           7.553810852008231,
           4.59511985013459,
           0,
           0.6931471805599453,
           2.5649493574615367,
           4.442651256490317,
           4.127134385045092,
           3.5263605246161616,
           9.104979856318357,
           4.2626798770413155,
           3.7612001156935624,
           4.6913478822291435,
           9.430439293104167,
           0,
           6.459904454377535,
           0,
           8.956093075610639,
           4.276666119016055,
           2.302585092994046,
           4.110873864173311,
           0,
           1.0986122886681098,
           1.9459101490553132,
           5.003946305945459,
           2.0794415416798357,
           1.791759469228055,
           1.0986122886681098,
           2.0794415416798357,
           1.0986122886681098,
           0,
           0,
           1.6094379124341003,
           0,
           6.220590170099739,
           1.6094379124341003,
           0.6931471805599453,
           1.9459101490553132,
           6.393590753950631,
           2.8903717578961645,
           2.9444389791664403,
           2.0794415416798357,
           1.6094379124341003,
           2.3978952727983707,
           3.8918202981106265,
           3.4339872044851463,
           4.07753744390572,
           5.568344503761097,
           0,
           3.8066624897703196,
           2.995732273553991,
           4.127134385045092,
           3.044522437723423,
           1.3862943611198906,
           2.4849066497880004,
           5.181783550292085,
           2.302585092994046,
           4.04305126783455,
           2.5649493574615367,
           7.7306140660637395,
           0.6931471805599453,
           6.214608098422191,
           6.480044561926653,
           3.871201010907891,
           4.07753744390572,
           0,
           1.9459101490553132,
           0,
           7.155396301896734,
           0,
           4.30406509320417,
           6.129050210060545,
           3.6375861597263857
          ],
          "coloraxis": "coloraxis",
          "size": [
           1.9459101490553132,
           2.4849066497880004,
           2.995732273553991,
           0,
           2.9444389791664403,
           0,
           4.852030263919617,
           5.5053315359323625,
           2.3978952727983707,
           5.272999558563747,
           1.0986122886681098,
           2.1972245773362196,
           5.749392985908253,
           0,
           0.6931471805599453,
           1.9459101490553132,
           3.6375861597263857,
           2.3978952727983707,
           1.9459101490553132,
           0.6931471805599453,
           1.0986122886681098,
           0.6931471805599453,
           4.68213122712422,
           3.1354942159291497,
           11.301228649089653,
           2.1972245773362196,
           0,
           2.5649493574615367,
           0,
           2.9444389791664403,
           6.54534966033442,
           1.791759469228055,
           4.51085950651685,
           6.095824562432225,
           1.6094379124341003,
           2.833213344056216,
           4.0943445622221,
           2.772588722239781,
           4.07753744390572,
           7.7336835707759,
           1.6094379124341003,
           3.1780538303479458,
           7.553810852008231,
           4.59511985013459,
           0,
           0.6931471805599453,
           2.5649493574615367,
           4.442651256490317,
           4.127134385045092,
           3.5263605246161616,
           9.104979856318357,
           4.2626798770413155,
           3.7612001156935624,
           4.6913478822291435,
           9.430439293104167,
           0,
           6.459904454377535,
           0,
           8.956093075610639,
           4.276666119016055,
           2.302585092994046,
           4.110873864173311,
           0,
           1.0986122886681098,
           1.9459101490553132,
           5.003946305945459,
           2.0794415416798357,
           1.791759469228055,
           1.0986122886681098,
           2.0794415416798357,
           1.0986122886681098,
           0,
           0,
           1.6094379124341003,
           0,
           6.220590170099739,
           1.6094379124341003,
           0.6931471805599453,
           1.9459101490553132,
           6.393590753950631,
           2.8903717578961645,
           2.9444389791664403,
           2.0794415416798357,
           1.6094379124341003,
           2.3978952727983707,
           3.8918202981106265,
           3.4339872044851463,
           4.07753744390572,
           5.568344503761097,
           0,
           3.8066624897703196,
           2.995732273553991,
           4.127134385045092,
           3.044522437723423,
           1.3862943611198906,
           2.4849066497880004,
           5.181783550292085,
           2.302585092994046,
           4.04305126783455,
           2.5649493574615367,
           7.7306140660637395,
           0.6931471805599453,
           6.214608098422191,
           6.480044561926653,
           3.871201010907891,
           4.07753744390572,
           0,
           1.9459101490553132,
           0,
           7.155396301896734,
           0,
           4.30406509320417,
           6.129050210060545,
           3.6375861597263857
          ],
          "sizemode": "area",
          "sizeref": 0.028253071622724134
         },
         "name": "",
         "showlegend": false,
         "type": "scattergeo"
        }
       ],
       "layout": {
        "coloraxis": {
         "colorbar": {
          "title": {
           "text": "color"
          }
         },
         "colorscale": [
          [
           0,
           "#440154"
          ],
          [
           0.1111111111111111,
           "#482878"
          ],
          [
           0.2222222222222222,
           "#3e4989"
          ],
          [
           0.3333333333333333,
           "#31688e"
          ],
          [
           0.4444444444444444,
           "#26828e"
          ],
          [
           0.5555555555555556,
           "#1f9e89"
          ],
          [
           0.6666666666666666,
           "#35b779"
          ],
          [
           0.7777777777777778,
           "#6ece58"
          ],
          [
           0.8888888888888888,
           "#b5de2b"
          ],
          [
           1,
           "#fde725"
          ]
         ]
        },
        "geo": {
         "center": {},
         "domain": {
          "x": [
           0,
           1
          ],
          "y": [
           0,
           1
          ]
         },
         "projection": {
          "type": "natural earth"
         },
         "resolution": 110,
         "showcountries": true
        },
        "legend": {
         "itemsizing": "constant",
         "tracegroupgap": 0
        },
        "margin": {
         "t": 60
        },
        "template": {
         "data": {
          "bar": [
           {
            "error_x": {
             "color": "#2a3f5f"
            },
            "error_y": {
             "color": "#2a3f5f"
            },
            "marker": {
             "line": {
              "color": "#E5ECF6",
              "width": 0.5
             }
            },
            "type": "bar"
           }
          ],
          "barpolar": [
           {
            "marker": {
             "line": {
              "color": "#E5ECF6",
              "width": 0.5
             }
            },
            "type": "barpolar"
           }
          ],
          "carpet": [
           {
            "aaxis": {
             "endlinecolor": "#2a3f5f",
             "gridcolor": "white",
             "linecolor": "white",
             "minorgridcolor": "white",
             "startlinecolor": "#2a3f5f"
            },
            "baxis": {
             "endlinecolor": "#2a3f5f",
             "gridcolor": "white",
             "linecolor": "white",
             "minorgridcolor": "white",
             "startlinecolor": "#2a3f5f"
            },
            "type": "carpet"
           }
          ],
          "choropleth": [
           {
            "colorbar": {
             "outlinewidth": 0,
             "ticks": ""
            },
            "type": "choropleth"
           }
          ],
          "contour": [
           {
            "colorbar": {
             "outlinewidth": 0,
             "ticks": ""
            },
            "colorscale": [
             [
              0,
              "#0d0887"
             ],
             [
              0.1111111111111111,
              "#46039f"
             ],
             [
              0.2222222222222222,
              "#7201a8"
             ],
             [
              0.3333333333333333,
              "#9c179e"
             ],
             [
              0.4444444444444444,
              "#bd3786"
             ],
             [
              0.5555555555555556,
              "#d8576b"
             ],
             [
              0.6666666666666666,
              "#ed7953"
             ],
             [
              0.7777777777777778,
              "#fb9f3a"
             ],
             [
              0.8888888888888888,
              "#fdca26"
             ],
             [
              1,
              "#f0f921"
             ]
            ],
            "type": "contour"
           }
          ],
          "contourcarpet": [
           {
            "colorbar": {
             "outlinewidth": 0,
             "ticks": ""
            },
            "type": "contourcarpet"
           }
          ],
          "heatmap": [
           {
            "colorbar": {
             "outlinewidth": 0,
             "ticks": ""
            },
            "colorscale": [
             [
              0,
              "#0d0887"
             ],
             [
              0.1111111111111111,
              "#46039f"
             ],
             [
              0.2222222222222222,
              "#7201a8"
             ],
             [
              0.3333333333333333,
              "#9c179e"
             ],
             [
              0.4444444444444444,
              "#bd3786"
             ],
             [
              0.5555555555555556,
              "#d8576b"
             ],
             [
              0.6666666666666666,
              "#ed7953"
             ],
             [
              0.7777777777777778,
              "#fb9f3a"
             ],
             [
              0.8888888888888888,
              "#fdca26"
             ],
             [
              1,
              "#f0f921"
             ]
            ],
            "type": "heatmap"
           }
          ],
          "heatmapgl": [
           {
            "colorbar": {
             "outlinewidth": 0,
             "ticks": ""
            },
            "colorscale": [
             [
              0,
              "#0d0887"
             ],
             [
              0.1111111111111111,
              "#46039f"
             ],
             [
              0.2222222222222222,
              "#7201a8"
             ],
             [
              0.3333333333333333,
              "#9c179e"
             ],
             [
              0.4444444444444444,
              "#bd3786"
             ],
             [
              0.5555555555555556,
              "#d8576b"
             ],
             [
              0.6666666666666666,
              "#ed7953"
             ],
             [
              0.7777777777777778,
              "#fb9f3a"
             ],
             [
              0.8888888888888888,
              "#fdca26"
             ],
             [
              1,
              "#f0f921"
             ]
            ],
            "type": "heatmapgl"
           }
          ],
          "histogram": [
           {
            "marker": {
             "colorbar": {
              "outlinewidth": 0,
              "ticks": ""
             }
            },
            "type": "histogram"
           }
          ],
          "histogram2d": [
           {
            "colorbar": {
             "outlinewidth": 0,
             "ticks": ""
            },
            "colorscale": [
             [
              0,
              "#0d0887"
             ],
             [
              0.1111111111111111,
              "#46039f"
             ],
             [
              0.2222222222222222,
              "#7201a8"
             ],
             [
              0.3333333333333333,
              "#9c179e"
             ],
             [
              0.4444444444444444,
              "#bd3786"
             ],
             [
              0.5555555555555556,
              "#d8576b"
             ],
             [
              0.6666666666666666,
              "#ed7953"
             ],
             [
              0.7777777777777778,
              "#fb9f3a"
             ],
             [
              0.8888888888888888,
              "#fdca26"
             ],
             [
              1,
              "#f0f921"
             ]
            ],
            "type": "histogram2d"
           }
          ],
          "histogram2dcontour": [
           {
            "colorbar": {
             "outlinewidth": 0,
             "ticks": ""
            },
            "colorscale": [
             [
              0,
              "#0d0887"
             ],
             [
              0.1111111111111111,
              "#46039f"
             ],
             [
              0.2222222222222222,
              "#7201a8"
             ],
             [
              0.3333333333333333,
              "#9c179e"
             ],
             [
              0.4444444444444444,
              "#bd3786"
             ],
             [
              0.5555555555555556,
              "#d8576b"
             ],
             [
              0.6666666666666666,
              "#ed7953"
             ],
             [
              0.7777777777777778,
              "#fb9f3a"
             ],
             [
              0.8888888888888888,
              "#fdca26"
             ],
             [
              1,
              "#f0f921"
             ]
            ],
            "type": "histogram2dcontour"
           }
          ],
          "mesh3d": [
           {
            "colorbar": {
             "outlinewidth": 0,
             "ticks": ""
            },
            "type": "mesh3d"
           }
          ],
          "parcoords": [
           {
            "line": {
             "colorbar": {
              "outlinewidth": 0,
              "ticks": ""
             }
            },
            "type": "parcoords"
           }
          ],
          "pie": [
           {
            "automargin": true,
            "type": "pie"
           }
          ],
          "scatter": [
           {
            "marker": {
             "colorbar": {
              "outlinewidth": 0,
              "ticks": ""
             }
            },
            "type": "scatter"
           }
          ],
          "scatter3d": [
           {
            "line": {
             "colorbar": {
              "outlinewidth": 0,
              "ticks": ""
             }
            },
            "marker": {
             "colorbar": {
              "outlinewidth": 0,
              "ticks": ""
             }
            },
            "type": "scatter3d"
           }
          ],
          "scattercarpet": [
           {
            "marker": {
             "colorbar": {
              "outlinewidth": 0,
              "ticks": ""
             }
            },
            "type": "scattercarpet"
           }
          ],
          "scattergeo": [
           {
            "marker": {
             "colorbar": {
              "outlinewidth": 0,
              "ticks": ""
             }
            },
            "type": "scattergeo"
           }
          ],
          "scattergl": [
           {
            "marker": {
             "colorbar": {
              "outlinewidth": 0,
              "ticks": ""
             }
            },
            "type": "scattergl"
           }
          ],
          "scattermapbox": [
           {
            "marker": {
             "colorbar": {
              "outlinewidth": 0,
              "ticks": ""
             }
            },
            "type": "scattermapbox"
           }
          ],
          "scatterpolar": [
           {
            "marker": {
             "colorbar": {
              "outlinewidth": 0,
              "ticks": ""
             }
            },
            "type": "scatterpolar"
           }
          ],
          "scatterpolargl": [
           {
            "marker": {
             "colorbar": {
              "outlinewidth": 0,
              "ticks": ""
             }
            },
            "type": "scatterpolargl"
           }
          ],
          "scatterternary": [
           {
            "marker": {
             "colorbar": {
              "outlinewidth": 0,
              "ticks": ""
             }
            },
            "type": "scatterternary"
           }
          ],
          "surface": [
           {
            "colorbar": {
             "outlinewidth": 0,
             "ticks": ""
            },
            "colorscale": [
             [
              0,
              "#0d0887"
             ],
             [
              0.1111111111111111,
              "#46039f"
             ],
             [
              0.2222222222222222,
              "#7201a8"
             ],
             [
              0.3333333333333333,
              "#9c179e"
             ],
             [
              0.4444444444444444,
              "#bd3786"
             ],
             [
              0.5555555555555556,
              "#d8576b"
             ],
             [
              0.6666666666666666,
              "#ed7953"
             ],
             [
              0.7777777777777778,
              "#fb9f3a"
             ],
             [
              0.8888888888888888,
              "#fdca26"
             ],
             [
              1,
              "#f0f921"
             ]
            ],
            "type": "surface"
           }
          ],
          "table": [
           {
            "cells": {
             "fill": {
              "color": "#EBF0F8"
             },
             "line": {
              "color": "white"
             }
            },
            "header": {
             "fill": {
              "color": "#C8D4E3"
             },
             "line": {
              "color": "white"
             }
            },
            "type": "table"
           }
          ]
         },
         "layout": {
          "annotationdefaults": {
           "arrowcolor": "#2a3f5f",
           "arrowhead": 0,
           "arrowwidth": 1
          },
          "coloraxis": {
           "colorbar": {
            "outlinewidth": 0,
            "ticks": ""
           }
          },
          "colorscale": {
           "diverging": [
            [
             0,
             "#8e0152"
            ],
            [
             0.1,
             "#c51b7d"
            ],
            [
             0.2,
             "#de77ae"
            ],
            [
             0.3,
             "#f1b6da"
            ],
            [
             0.4,
             "#fde0ef"
            ],
            [
             0.5,
             "#f7f7f7"
            ],
            [
             0.6,
             "#e6f5d0"
            ],
            [
             0.7,
             "#b8e186"
            ],
            [
             0.8,
             "#7fbc41"
            ],
            [
             0.9,
             "#4d9221"
            ],
            [
             1,
             "#276419"
            ]
           ],
           "sequential": [
            [
             0,
             "#0d0887"
            ],
            [
             0.1111111111111111,
             "#46039f"
            ],
            [
             0.2222222222222222,
             "#7201a8"
            ],
            [
             0.3333333333333333,
             "#9c179e"
            ],
            [
             0.4444444444444444,
             "#bd3786"
            ],
            [
             0.5555555555555556,
             "#d8576b"
            ],
            [
             0.6666666666666666,
             "#ed7953"
            ],
            [
             0.7777777777777778,
             "#fb9f3a"
            ],
            [
             0.8888888888888888,
             "#fdca26"
            ],
            [
             1,
             "#f0f921"
            ]
           ],
           "sequentialminus": [
            [
             0,
             "#0d0887"
            ],
            [
             0.1111111111111111,
             "#46039f"
            ],
            [
             0.2222222222222222,
             "#7201a8"
            ],
            [
             0.3333333333333333,
             "#9c179e"
            ],
            [
             0.4444444444444444,
             "#bd3786"
            ],
            [
             0.5555555555555556,
             "#d8576b"
            ],
            [
             0.6666666666666666,
             "#ed7953"
            ],
            [
             0.7777777777777778,
             "#fb9f3a"
            ],
            [
             0.8888888888888888,
             "#fdca26"
            ],
            [
             1,
             "#f0f921"
            ]
           ]
          },
          "colorway": [
           "#636efa",
           "#EF553B",
           "#00cc96",
           "#ab63fa",
           "#FFA15A",
           "#19d3f3",
           "#FF6692",
           "#B6E880",
           "#FF97FF",
           "#FECB52"
          ],
          "font": {
           "color": "#2a3f5f"
          },
          "geo": {
           "bgcolor": "white",
           "lakecolor": "white",
           "landcolor": "#E5ECF6",
           "showlakes": true,
           "showland": true,
           "subunitcolor": "white"
          },
          "hoverlabel": {
           "align": "left"
          },
          "hovermode": "closest",
          "mapbox": {
           "style": "light"
          },
          "paper_bgcolor": "white",
          "plot_bgcolor": "#E5ECF6",
          "polar": {
           "angularaxis": {
            "gridcolor": "white",
            "linecolor": "white",
            "ticks": ""
           },
           "bgcolor": "#E5ECF6",
           "radialaxis": {
            "gridcolor": "white",
            "linecolor": "white",
            "ticks": ""
           }
          },
          "scene": {
           "xaxis": {
            "backgroundcolor": "#E5ECF6",
            "gridcolor": "white",
            "gridwidth": 2,
            "linecolor": "white",
            "showbackground": true,
            "ticks": "",
            "zerolinecolor": "white"
           },
           "yaxis": {
            "backgroundcolor": "#E5ECF6",
            "gridcolor": "white",
            "gridwidth": 2,
            "linecolor": "white",
            "showbackground": true,
            "ticks": "",
            "zerolinecolor": "white"
           },
           "zaxis": {
            "backgroundcolor": "#E5ECF6",
            "gridcolor": "white",
            "gridwidth": 2,
            "linecolor": "white",
            "showbackground": true,
            "ticks": "",
            "zerolinecolor": "white"
           }
          },
          "shapedefaults": {
           "line": {
            "color": "#2a3f5f"
           }
          },
          "ternary": {
           "aaxis": {
            "gridcolor": "white",
            "linecolor": "white",
            "ticks": ""
           },
           "baxis": {
            "gridcolor": "white",
            "linecolor": "white",
            "ticks": ""
           },
           "bgcolor": "#E5ECF6",
           "caxis": {
            "gridcolor": "white",
            "linecolor": "white",
            "ticks": ""
           }
          },
          "title": {
           "x": 0.05
          },
          "xaxis": {
           "automargin": true,
           "gridcolor": "white",
           "linecolor": "white",
           "ticks": "",
           "title": {
            "standoff": 15
           },
           "zerolinecolor": "white",
           "zerolinewidth": 2
          },
          "yaxis": {
           "automargin": true,
           "gridcolor": "white",
           "linecolor": "white",
           "ticks": "",
           "title": {
            "standoff": 15
           },
           "zerolinecolor": "white",
           "zerolinewidth": 2
          }
         }
        }
       }
      },
      "text/html": [
       "<div>\n",
       "        \n",
       "        \n",
       "            <div id=\"8417895b-ecf4-45f5-9d09-07929aecac38\" class=\"plotly-graph-div\" style=\"height:525px; width:100%;\"></div>\n",
       "            <script type=\"text/javascript\">\n",
       "                require([\"plotly\"], function(Plotly) {\n",
       "                    window.PLOTLYENV=window.PLOTLYENV || {};\n",
       "                    \n",
       "                if (document.getElementById(\"8417895b-ecf4-45f5-9d09-07929aecac38\")) {\n",
       "                    Plotly.newPlot(\n",
       "                        '8417895b-ecf4-45f5-9d09-07929aecac38',\n",
       "                        [{\"customdata\": [[\"Afghanistan\", 7], [\"Albania\", 12], [\"Algeria\", 20], [\"Andorra\", 1], [\"Argentina\", 19], [\"Armenia\", 1], [\"Australia\", 128], [\"Austria\", 246], [\"Azerbaijan\", 11], [\"Bahrain\", 195], [\"Bangladesh\", 3], [\"Belarus\", 9], [\"Belgium\", 314], [\"Bhutan\", 1], [\"Bolivia\", 2], [\"Bosnia and Herzegovina\", 7], [\"Brazil\", 38], [\"Brunei\", 11], [\"Bulgaria\", 7], [\"Burkina Faso\", 2], [\"Cambodia\", 3], [\"Cameroon\", 2], [\"Canada\", 108], [\"Chile\", 23], [\"China\", 80921], [\"Colombia\", 9], [\"Congo (Kinshasa)\", 1], [\"Costa Rica\", 13], [\"Cote d'Ivoire\", 1], [\"Croatia\", 19], [\"Cruise Ship\", 696], [\"Cyprus\", 6], [\"Czechia\", 91], [\"Denmark\", 444], [\"Dominican Republic\", 5], [\"Ecuador\", 17], [\"Egypt\", 60], [\"Estonia\", 16], [\"Finland\", 59], [\"France\", 2284], [\"French Guiana\", 5], [\"Georgia\", 24], [\"Germany\", 1908], [\"Greece\", 99], [\"Holy See\", 1], [\"Honduras\", 2], [\"Hungary\", 13], [\"Iceland\", 85], [\"India\", 62], [\"Indonesia\", 34], [\"Iran\", 9000], [\"Iraq\", 71], [\"Ireland\", 43], [\"Israel\", 109], [\"Italy\", 12462], [\"Jamaica\", 1], [\"Japan\", 639], [\"Jordan\", 1], [\"Korea, South\", 7755], [\"Kuwait\", 72], [\"Latvia\", 10], [\"Lebanon\", 61], [\"Liechtenstein\", 1], [\"Lithuania\", 3], [\"Luxembourg\", 7], [\"Malaysia\", 149], [\"Maldives\", 8], [\"Malta\", 6], [\"Martinique\", 3], [\"Mexico\", 8], [\"Moldova\", 3], [\"Monaco\", 1], [\"Mongolia\", 1], [\"Morocco\", 5], [\"Nepal\", 1], [\"Netherlands\", 503], [\"New Zealand\", 5], [\"Nigeria\", 2], [\"North Macedonia\", 7], [\"Norway\", 598], [\"Oman\", 18], [\"Pakistan\", 19], [\"Panama\", 8], [\"Paraguay\", 5], [\"Peru\", 11], [\"Philippines\", 49], [\"Poland\", 31], [\"Portugal\", 59], [\"Qatar\", 262], [\"Reunion\", 1], [\"Romania\", 45], [\"Russia\", 20], [\"San Marino\", 62], [\"Saudi Arabia\", 21], [\"Senegal\", 4], [\"Serbia\", 12], [\"Singapore\", 178], [\"Slovakia\", 10], [\"Slovenia\", 57], [\"South Africa\", 13], [\"Spain\", 2277], [\"Sri Lanka\", 2], [\"Sweden\", 500], [\"Switzerland\", 652], [\"Taiwan*\", 48], [\"Thailand\", 59], [\"Togo\", 1], [\"Tunisia\", 7], [\"Turkey\", 1], [\"US\", 1281], [\"Ukraine\", 1], [\"United Arab Emirates\", 74], [\"United Kingdom\", 459], [\"Vietnam\", 38]], \"geo\": \"geo\", \"hoverlabel\": {\"namelength\": 0}, \"hovertemplate\": \"<b>%{hovertext}</b><br><br>size=%{marker.size}<br>Country/Region=%{customdata[0]}<br>sum=%{customdata[1]}<br>Code=%{location}<br>color=%{marker.color}\", \"hovertext\": [\"Afghanistan\", \"Albania\", \"Algeria\", \"Andorra\", \"Argentina\", \"Armenia\", \"Australia\", \"Austria\", \"Azerbaijan\", \"Bahrain\", \"Bangladesh\", \"Belarus\", \"Belgium\", \"Bhutan\", \"Bolivia\", \"Bosnia and Herzegovina\", \"Brazil\", \"Brunei\", \"Bulgaria\", \"Burkina Faso\", \"Cambodia\", \"Cameroon\", \"Canada\", \"Chile\", \"China\", \"Colombia\", \"Congo (Kinshasa)\", \"Costa Rica\", \"Cote d'Ivoire\", \"Croatia\", \"Cruise Ship\", \"Cyprus\", \"Czechia\", \"Denmark\", \"Dominican Republic\", \"Ecuador\", \"Egypt\", \"Estonia\", \"Finland\", \"France\", \"French Guiana\", \"Georgia\", \"Germany\", \"Greece\", \"Holy See\", \"Honduras\", \"Hungary\", \"Iceland\", \"India\", \"Indonesia\", \"Iran\", \"Iraq\", \"Ireland\", \"Israel\", \"Italy\", \"Jamaica\", \"Japan\", \"Jordan\", \"Korea, South\", \"Kuwait\", \"Latvia\", \"Lebanon\", \"Liechtenstein\", \"Lithuania\", \"Luxembourg\", \"Malaysia\", \"Maldives\", \"Malta\", \"Martinique\", \"Mexico\", \"Moldova\", \"Monaco\", \"Mongolia\", \"Morocco\", \"Nepal\", \"Netherlands\", \"New Zealand\", \"Nigeria\", \"North Macedonia\", \"Norway\", \"Oman\", \"Pakistan\", \"Panama\", \"Paraguay\", \"Peru\", \"Philippines\", \"Poland\", \"Portugal\", \"Qatar\", \"Reunion\", \"Romania\", \"Russia\", \"San Marino\", \"Saudi Arabia\", \"Senegal\", \"Serbia\", \"Singapore\", \"Slovakia\", \"Slovenia\", \"South Africa\", \"Spain\", \"Sri Lanka\", \"Sweden\", \"Switzerland\", \"Taiwan*\", \"Thailand\", \"Togo\", \"Tunisia\", \"Turkey\", \"US\", \"Ukraine\", \"United Arab Emirates\", \"United Kingdom\", \"Vietnam\"], \"legendgroup\": \"\", \"locations\": [\"AFG\", \"ALB\", \"DZA\", \"AND\", \"ARG\", \"ARM\", \"AUS\", \"AUT\", \"AZE\", \"BHR\", \"BGD\", \"BLR\", \"BEL\", \"BTN\", \"BOL\", \"BIH\", \"BRA\", \"BRN\", \"BGR\", \"BFA\", \"KHM\", \"CMR\", \"CAN\", \"CHL\", \"CHN\", \"COL\", null, \"CRI\", \"CIV\", \"HRV\", null, \"CYP\", null, \"DNK\", \"DOM\", \"ECU\", \"EGY\", \"EST\", \"FIN\", \"FRA\", \"GUF\", \"GEO\", \"DEU\", \"GRC\", null, \"HND\", \"HUN\", \"ISL\", \"IND\", \"IDN\", \"IRN\", \"IRQ\", \"IRL\", \"ISR\", \"ITA\", \"JAM\", \"JPN\", \"JOR\", \"KOR\", \"KWT\", \"LVA\", \"LBN\", \"LIE\", \"LTU\", \"LUX\", \"MYS\", \"MDV\", \"MLT\", \"MTQ\", \"MEX\", \"MDA\", \"MCO\", \"MNG\", \"MAR\", \"NPL\", \"NLD\", \"NZL\", \"NGA\", \"MKD\", \"NOR\", \"OMN\", \"PAK\", \"PAN\", \"PRY\", \"PER\", \"PHL\", \"POL\", \"PRT\", \"QAT\", null, \"ROU\", \"RUS\", \"SMR\", \"SAU\", \"SEN\", \"SRB\", \"SGP\", \"SVK\", \"SVN\", \"ZAF\", \"ESP\", \"LKA\", \"SWE\", \"CHE\", null, \"THA\", \"TGO\", \"TUN\", \"TUR\", \"USA\", \"UKR\", \"ARE\", \"GBR\", \"VNM\"], \"marker\": {\"color\": [1.9459101490553132, 2.4849066497880004, 2.995732273553991, 0.0, 2.9444389791664403, 0.0, 4.852030263919617, 5.5053315359323625, 2.3978952727983707, 5.272999558563747, 1.0986122886681098, 2.1972245773362196, 5.749392985908253, 0.0, 0.6931471805599453, 1.9459101490553132, 3.6375861597263857, 2.3978952727983707, 1.9459101490553132, 0.6931471805599453, 1.0986122886681098, 0.6931471805599453, 4.68213122712422, 3.1354942159291497, 11.301228649089653, 2.1972245773362196, 0.0, 2.5649493574615367, 0.0, 2.9444389791664403, 6.54534966033442, 1.791759469228055, 4.51085950651685, 6.095824562432225, 1.6094379124341003, 2.833213344056216, 4.0943445622221, 2.772588722239781, 4.07753744390572, 7.7336835707759, 1.6094379124341003, 3.1780538303479458, 7.553810852008231, 4.59511985013459, 0.0, 0.6931471805599453, 2.5649493574615367, 4.442651256490317, 4.127134385045092, 3.5263605246161616, 9.104979856318357, 4.2626798770413155, 3.7612001156935624, 4.6913478822291435, 9.430439293104167, 0.0, 6.459904454377535, 0.0, 8.956093075610639, 4.276666119016055, 2.302585092994046, 4.110873864173311, 0.0, 1.0986122886681098, 1.9459101490553132, 5.003946305945459, 2.0794415416798357, 1.791759469228055, 1.0986122886681098, 2.0794415416798357, 1.0986122886681098, 0.0, 0.0, 1.6094379124341003, 0.0, 6.220590170099739, 1.6094379124341003, 0.6931471805599453, 1.9459101490553132, 6.393590753950631, 2.8903717578961645, 2.9444389791664403, 2.0794415416798357, 1.6094379124341003, 2.3978952727983707, 3.8918202981106265, 3.4339872044851463, 4.07753744390572, 5.568344503761097, 0.0, 3.8066624897703196, 2.995732273553991, 4.127134385045092, 3.044522437723423, 1.3862943611198906, 2.4849066497880004, 5.181783550292085, 2.302585092994046, 4.04305126783455, 2.5649493574615367, 7.7306140660637395, 0.6931471805599453, 6.214608098422191, 6.480044561926653, 3.871201010907891, 4.07753744390572, 0.0, 1.9459101490553132, 0.0, 7.155396301896734, 0.0, 4.30406509320417, 6.129050210060545, 3.6375861597263857], \"coloraxis\": \"coloraxis\", \"size\": [1.9459101490553132, 2.4849066497880004, 2.995732273553991, 0.0, 2.9444389791664403, 0.0, 4.852030263919617, 5.5053315359323625, 2.3978952727983707, 5.272999558563747, 1.0986122886681098, 2.1972245773362196, 5.749392985908253, 0.0, 0.6931471805599453, 1.9459101490553132, 3.6375861597263857, 2.3978952727983707, 1.9459101490553132, 0.6931471805599453, 1.0986122886681098, 0.6931471805599453, 4.68213122712422, 3.1354942159291497, 11.301228649089653, 2.1972245773362196, 0.0, 2.5649493574615367, 0.0, 2.9444389791664403, 6.54534966033442, 1.791759469228055, 4.51085950651685, 6.095824562432225, 1.6094379124341003, 2.833213344056216, 4.0943445622221, 2.772588722239781, 4.07753744390572, 7.7336835707759, 1.6094379124341003, 3.1780538303479458, 7.553810852008231, 4.59511985013459, 0.0, 0.6931471805599453, 2.5649493574615367, 4.442651256490317, 4.127134385045092, 3.5263605246161616, 9.104979856318357, 4.2626798770413155, 3.7612001156935624, 4.6913478822291435, 9.430439293104167, 0.0, 6.459904454377535, 0.0, 8.956093075610639, 4.276666119016055, 2.302585092994046, 4.110873864173311, 0.0, 1.0986122886681098, 1.9459101490553132, 5.003946305945459, 2.0794415416798357, 1.791759469228055, 1.0986122886681098, 2.0794415416798357, 1.0986122886681098, 0.0, 0.0, 1.6094379124341003, 0.0, 6.220590170099739, 1.6094379124341003, 0.6931471805599453, 1.9459101490553132, 6.393590753950631, 2.8903717578961645, 2.9444389791664403, 2.0794415416798357, 1.6094379124341003, 2.3978952727983707, 3.8918202981106265, 3.4339872044851463, 4.07753744390572, 5.568344503761097, 0.0, 3.8066624897703196, 2.995732273553991, 4.127134385045092, 3.044522437723423, 1.3862943611198906, 2.4849066497880004, 5.181783550292085, 2.302585092994046, 4.04305126783455, 2.5649493574615367, 7.7306140660637395, 0.6931471805599453, 6.214608098422191, 6.480044561926653, 3.871201010907891, 4.07753744390572, 0.0, 1.9459101490553132, 0.0, 7.155396301896734, 0.0, 4.30406509320417, 6.129050210060545, 3.6375861597263857], \"sizemode\": \"area\", \"sizeref\": 0.028253071622724134}, \"name\": \"\", \"showlegend\": false, \"type\": \"scattergeo\"}],\n",
       "                        {\"coloraxis\": {\"colorbar\": {\"title\": {\"text\": \"color\"}}, \"colorscale\": [[0.0, \"#440154\"], [0.1111111111111111, \"#482878\"], [0.2222222222222222, \"#3e4989\"], [0.3333333333333333, \"#31688e\"], [0.4444444444444444, \"#26828e\"], [0.5555555555555556, \"#1f9e89\"], [0.6666666666666666, \"#35b779\"], [0.7777777777777778, \"#6ece58\"], [0.8888888888888888, \"#b5de2b\"], [1.0, \"#fde725\"]]}, \"geo\": {\"center\": {}, \"domain\": {\"x\": [0.0, 1.0], \"y\": [0.0, 1.0]}, \"projection\": {\"type\": \"natural earth\"}, \"resolution\": 110, \"showcountries\": true}, \"legend\": {\"itemsizing\": \"constant\", \"tracegroupgap\": 0}, \"margin\": {\"t\": 60}, \"template\": {\"data\": {\"bar\": [{\"error_x\": {\"color\": \"#2a3f5f\"}, \"error_y\": {\"color\": \"#2a3f5f\"}, \"marker\": {\"line\": {\"color\": \"#E5ECF6\", \"width\": 0.5}}, \"type\": \"bar\"}], \"barpolar\": [{\"marker\": {\"line\": {\"color\": \"#E5ECF6\", \"width\": 0.5}}, \"type\": \"barpolar\"}], \"carpet\": [{\"aaxis\": {\"endlinecolor\": \"#2a3f5f\", \"gridcolor\": \"white\", \"linecolor\": \"white\", \"minorgridcolor\": \"white\", \"startlinecolor\": \"#2a3f5f\"}, \"baxis\": {\"endlinecolor\": \"#2a3f5f\", \"gridcolor\": \"white\", \"linecolor\": \"white\", \"minorgridcolor\": \"white\", \"startlinecolor\": \"#2a3f5f\"}, \"type\": \"carpet\"}], \"choropleth\": [{\"colorbar\": {\"outlinewidth\": 0, \"ticks\": \"\"}, \"type\": \"choropleth\"}], \"contour\": [{\"colorbar\": {\"outlinewidth\": 0, \"ticks\": \"\"}, \"colorscale\": [[0.0, \"#0d0887\"], [0.1111111111111111, \"#46039f\"], [0.2222222222222222, \"#7201a8\"], [0.3333333333333333, \"#9c179e\"], [0.4444444444444444, \"#bd3786\"], [0.5555555555555556, \"#d8576b\"], [0.6666666666666666, \"#ed7953\"], [0.7777777777777778, \"#fb9f3a\"], [0.8888888888888888, \"#fdca26\"], [1.0, \"#f0f921\"]], \"type\": \"contour\"}], \"contourcarpet\": [{\"colorbar\": {\"outlinewidth\": 0, \"ticks\": \"\"}, \"type\": \"contourcarpet\"}], \"heatmap\": [{\"colorbar\": {\"outlinewidth\": 0, \"ticks\": \"\"}, \"colorscale\": [[0.0, \"#0d0887\"], [0.1111111111111111, \"#46039f\"], [0.2222222222222222, \"#7201a8\"], [0.3333333333333333, \"#9c179e\"], [0.4444444444444444, \"#bd3786\"], [0.5555555555555556, \"#d8576b\"], [0.6666666666666666, \"#ed7953\"], [0.7777777777777778, \"#fb9f3a\"], [0.8888888888888888, \"#fdca26\"], [1.0, \"#f0f921\"]], \"type\": \"heatmap\"}], \"heatmapgl\": [{\"colorbar\": {\"outlinewidth\": 0, \"ticks\": \"\"}, \"colorscale\": [[0.0, \"#0d0887\"], [0.1111111111111111, \"#46039f\"], [0.2222222222222222, \"#7201a8\"], [0.3333333333333333, \"#9c179e\"], [0.4444444444444444, \"#bd3786\"], [0.5555555555555556, \"#d8576b\"], [0.6666666666666666, \"#ed7953\"], [0.7777777777777778, \"#fb9f3a\"], [0.8888888888888888, \"#fdca26\"], [1.0, \"#f0f921\"]], \"type\": \"heatmapgl\"}], \"histogram\": [{\"marker\": {\"colorbar\": {\"outlinewidth\": 0, \"ticks\": \"\"}}, \"type\": \"histogram\"}], \"histogram2d\": [{\"colorbar\": {\"outlinewidth\": 0, \"ticks\": \"\"}, \"colorscale\": [[0.0, \"#0d0887\"], [0.1111111111111111, \"#46039f\"], [0.2222222222222222, \"#7201a8\"], [0.3333333333333333, \"#9c179e\"], [0.4444444444444444, \"#bd3786\"], [0.5555555555555556, \"#d8576b\"], [0.6666666666666666, \"#ed7953\"], [0.7777777777777778, \"#fb9f3a\"], [0.8888888888888888, \"#fdca26\"], [1.0, \"#f0f921\"]], \"type\": \"histogram2d\"}], \"histogram2dcontour\": [{\"colorbar\": {\"outlinewidth\": 0, \"ticks\": \"\"}, \"colorscale\": [[0.0, \"#0d0887\"], [0.1111111111111111, \"#46039f\"], [0.2222222222222222, \"#7201a8\"], [0.3333333333333333, \"#9c179e\"], [0.4444444444444444, \"#bd3786\"], [0.5555555555555556, \"#d8576b\"], [0.6666666666666666, \"#ed7953\"], [0.7777777777777778, \"#fb9f3a\"], [0.8888888888888888, \"#fdca26\"], [1.0, \"#f0f921\"]], \"type\": \"histogram2dcontour\"}], \"mesh3d\": [{\"colorbar\": {\"outlinewidth\": 0, \"ticks\": \"\"}, \"type\": \"mesh3d\"}], \"parcoords\": [{\"line\": {\"colorbar\": {\"outlinewidth\": 0, \"ticks\": \"\"}}, \"type\": \"parcoords\"}], \"pie\": [{\"automargin\": true, \"type\": \"pie\"}], \"scatter\": [{\"marker\": {\"colorbar\": {\"outlinewidth\": 0, \"ticks\": \"\"}}, \"type\": \"scatter\"}], \"scatter3d\": [{\"line\": {\"colorbar\": {\"outlinewidth\": 0, \"ticks\": \"\"}}, \"marker\": {\"colorbar\": {\"outlinewidth\": 0, \"ticks\": \"\"}}, \"type\": \"scatter3d\"}], \"scattercarpet\": [{\"marker\": {\"colorbar\": {\"outlinewidth\": 0, \"ticks\": \"\"}}, \"type\": \"scattercarpet\"}], \"scattergeo\": [{\"marker\": {\"colorbar\": {\"outlinewidth\": 0, \"ticks\": \"\"}}, \"type\": \"scattergeo\"}], \"scattergl\": [{\"marker\": {\"colorbar\": {\"outlinewidth\": 0, \"ticks\": \"\"}}, \"type\": \"scattergl\"}], \"scattermapbox\": [{\"marker\": {\"colorbar\": {\"outlinewidth\": 0, \"ticks\": \"\"}}, \"type\": \"scattermapbox\"}], \"scatterpolar\": [{\"marker\": {\"colorbar\": {\"outlinewidth\": 0, \"ticks\": \"\"}}, \"type\": \"scatterpolar\"}], \"scatterpolargl\": [{\"marker\": {\"colorbar\": {\"outlinewidth\": 0, \"ticks\": \"\"}}, \"type\": \"scatterpolargl\"}], \"scatterternary\": [{\"marker\": {\"colorbar\": {\"outlinewidth\": 0, \"ticks\": \"\"}}, \"type\": \"scatterternary\"}], \"surface\": [{\"colorbar\": {\"outlinewidth\": 0, \"ticks\": \"\"}, \"colorscale\": [[0.0, \"#0d0887\"], [0.1111111111111111, \"#46039f\"], [0.2222222222222222, \"#7201a8\"], [0.3333333333333333, \"#9c179e\"], [0.4444444444444444, \"#bd3786\"], [0.5555555555555556, \"#d8576b\"], [0.6666666666666666, \"#ed7953\"], [0.7777777777777778, \"#fb9f3a\"], [0.8888888888888888, \"#fdca26\"], [1.0, \"#f0f921\"]], \"type\": \"surface\"}], \"table\": [{\"cells\": {\"fill\": {\"color\": \"#EBF0F8\"}, \"line\": {\"color\": \"white\"}}, \"header\": {\"fill\": {\"color\": \"#C8D4E3\"}, \"line\": {\"color\": \"white\"}}, \"type\": \"table\"}]}, \"layout\": {\"annotationdefaults\": {\"arrowcolor\": \"#2a3f5f\", \"arrowhead\": 0, \"arrowwidth\": 1}, \"coloraxis\": {\"colorbar\": {\"outlinewidth\": 0, \"ticks\": \"\"}}, \"colorscale\": {\"diverging\": [[0, \"#8e0152\"], [0.1, \"#c51b7d\"], [0.2, \"#de77ae\"], [0.3, \"#f1b6da\"], [0.4, \"#fde0ef\"], [0.5, \"#f7f7f7\"], [0.6, \"#e6f5d0\"], [0.7, \"#b8e186\"], [0.8, \"#7fbc41\"], [0.9, \"#4d9221\"], [1, \"#276419\"]], \"sequential\": [[0.0, \"#0d0887\"], [0.1111111111111111, \"#46039f\"], [0.2222222222222222, \"#7201a8\"], [0.3333333333333333, \"#9c179e\"], [0.4444444444444444, \"#bd3786\"], [0.5555555555555556, \"#d8576b\"], [0.6666666666666666, \"#ed7953\"], [0.7777777777777778, \"#fb9f3a\"], [0.8888888888888888, \"#fdca26\"], [1.0, \"#f0f921\"]], \"sequentialminus\": [[0.0, \"#0d0887\"], [0.1111111111111111, \"#46039f\"], [0.2222222222222222, \"#7201a8\"], [0.3333333333333333, \"#9c179e\"], [0.4444444444444444, \"#bd3786\"], [0.5555555555555556, \"#d8576b\"], [0.6666666666666666, \"#ed7953\"], [0.7777777777777778, \"#fb9f3a\"], [0.8888888888888888, \"#fdca26\"], [1.0, \"#f0f921\"]]}, \"colorway\": [\"#636efa\", \"#EF553B\", \"#00cc96\", \"#ab63fa\", \"#FFA15A\", \"#19d3f3\", \"#FF6692\", \"#B6E880\", \"#FF97FF\", \"#FECB52\"], \"font\": {\"color\": \"#2a3f5f\"}, \"geo\": {\"bgcolor\": \"white\", \"lakecolor\": \"white\", \"landcolor\": \"#E5ECF6\", \"showlakes\": true, \"showland\": true, \"subunitcolor\": \"white\"}, \"hoverlabel\": {\"align\": \"left\"}, \"hovermode\": \"closest\", \"mapbox\": {\"style\": \"light\"}, \"paper_bgcolor\": \"white\", \"plot_bgcolor\": \"#E5ECF6\", \"polar\": {\"angularaxis\": {\"gridcolor\": \"white\", \"linecolor\": \"white\", \"ticks\": \"\"}, \"bgcolor\": \"#E5ECF6\", \"radialaxis\": {\"gridcolor\": \"white\", \"linecolor\": \"white\", \"ticks\": \"\"}}, \"scene\": {\"xaxis\": {\"backgroundcolor\": \"#E5ECF6\", \"gridcolor\": \"white\", \"gridwidth\": 2, \"linecolor\": \"white\", \"showbackground\": true, \"ticks\": \"\", \"zerolinecolor\": \"white\"}, \"yaxis\": {\"backgroundcolor\": \"#E5ECF6\", \"gridcolor\": \"white\", \"gridwidth\": 2, \"linecolor\": \"white\", \"showbackground\": true, \"ticks\": \"\", \"zerolinecolor\": \"white\"}, \"zaxis\": {\"backgroundcolor\": \"#E5ECF6\", \"gridcolor\": \"white\", \"gridwidth\": 2, \"linecolor\": \"white\", \"showbackground\": true, \"ticks\": \"\", \"zerolinecolor\": \"white\"}}, \"shapedefaults\": {\"line\": {\"color\": \"#2a3f5f\"}}, \"ternary\": {\"aaxis\": {\"gridcolor\": \"white\", \"linecolor\": \"white\", \"ticks\": \"\"}, \"baxis\": {\"gridcolor\": \"white\", \"linecolor\": \"white\", \"ticks\": \"\"}, \"bgcolor\": \"#E5ECF6\", \"caxis\": {\"gridcolor\": \"white\", \"linecolor\": \"white\", \"ticks\": \"\"}}, \"title\": {\"x\": 0.05}, \"xaxis\": {\"automargin\": true, \"gridcolor\": \"white\", \"linecolor\": \"white\", \"ticks\": \"\", \"title\": {\"standoff\": 15}, \"zerolinecolor\": \"white\", \"zerolinewidth\": 2}, \"yaxis\": {\"automargin\": true, \"gridcolor\": \"white\", \"linecolor\": \"white\", \"ticks\": \"\", \"title\": {\"standoff\": 15}, \"zerolinecolor\": \"white\", \"zerolinewidth\": 2}}}},\n",
       "                        {\"responsive\": true}\n",
       "                    ).then(function(){\n",
       "                            \n",
       "var gd = document.getElementById('8417895b-ecf4-45f5-9d09-07929aecac38');\n",
       "var x = new MutationObserver(function (mutations, observer) {{\n",
       "        var display = window.getComputedStyle(gd).display;\n",
       "        if (!display || display === 'none') {{\n",
       "            console.log([gd, 'removed!']);\n",
       "            Plotly.purge(gd);\n",
       "            observer.disconnect();\n",
       "        }}\n",
       "}});\n",
       "\n",
       "// Listen for the removal of the full notebook cells\n",
       "var notebookContainer = gd.closest('#notebook-container');\n",
       "if (notebookContainer) {{\n",
       "    x.observe(notebookContainer, {childList: true});\n",
       "}}\n",
       "\n",
       "// Listen for the clearing of the current output cell\n",
       "var outputEl = gd.closest('.output');\n",
       "if (outputEl) {{\n",
       "    x.observe(outputEl, {childList: true});\n",
       "}}\n",
       "\n",
       "                        })\n",
       "                };\n",
       "                });\n",
       "            </script>\n",
       "        </div>"
      ]
     },
     "metadata": {},
     "output_type": "display_data"
    }
   ],
   "source": [
    "fig = px.scatter_geo(agg_latest_data, locations='Code', color=np.log(agg_latest_data['sum']), \n",
    "                     size=np.log(agg_latest_data['sum']), hover_name='Country/Region', \n",
    "                     hover_data = ['Country/Region', 'sum'],\n",
    "                     projection=\"natural earth\", color_continuous_scale = 'Viridis')\n",
    "fig.update_geos(resolution=110,\n",
    "    showcountries=True)\n",
    "fig.show()"
   ]
  },
  {
   "cell_type": "code",
   "execution_count": null,
   "metadata": {},
   "outputs": [],
   "source": []
  },
  {
   "cell_type": "code",
   "execution_count": null,
   "metadata": {},
   "outputs": [],
   "source": []
  }
 ],
 "metadata": {
  "kernelspec": {
   "display_name": "Python 3",
   "language": "python",
   "name": "python3"
  },
  "language_info": {
   "codemirror_mode": {
    "name": "ipython",
    "version": 3
   },
   "file_extension": ".py",
   "mimetype": "text/x-python",
   "name": "python",
   "nbconvert_exporter": "python",
   "pygments_lexer": "ipython3",
   "version": "3.6.4"
  }
 },
 "nbformat": 4,
 "nbformat_minor": 2
}
